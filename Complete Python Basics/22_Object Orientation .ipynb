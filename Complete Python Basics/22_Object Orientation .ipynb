{
 "cells": [
  {
   "cell_type": "markdown",
   "id": "f7f4e8c4",
   "metadata": {},
   "source": [
    "# Object Orientated Programming"
   ]
  },
  {
   "cell_type": "markdown",
   "id": "e4ad2708",
   "metadata": {},
   "source": [
    "7 properties of OOPs\n",
    "\n",
    "1. Class\n",
    "            Updated version of structure\n",
    "            Collection of variables and methods.\n",
    "            Class is a blueprint.\n",
    "\n",
    "2. Object\n",
    "            Run time or real time entity.\n",
    "            hash code - id\n",
    "           \n",
    "3. Abstraction and Encapsulation\n",
    "            Abstraction - Showing only essential features without showing any background details.\n",
    "            Encapsulation - wrapping up of data in a single unit.\n",
    "\n",
    "4. Inheritance\n",
    "            Acquiring Properties of one class into another.\n",
    "            Code reuse.\n",
    "            - Single Level\n",
    "            - Multi Level\n",
    "            - Hierarchical\n",
    "            - Multiple\n",
    "            - Hybrid\n",
    "\n",
    "5. Polymorphism\n",
    "            same name multiple fuctionalities.\n",
    "            - Method Overloading\n",
    "            - Method Overriding\n",
    "            add()\n",
    "            add(x,y)\n",
    "            add(a,b,c)\n",
    "            add()\n",
    "\n",
    "6. Dynamic Memory Allocation\n",
    "            Run time memory allocation\n",
    "           \n",
    "           \n",
    "7. Message passing\n",
    "            Communication between objects"
   ]
  },
  {
   "cell_type": "code",
   "execution_count": null,
   "id": "d29fcaf6",
   "metadata": {},
   "outputs": [],
   "source": [
    "int a = 10;\n",
    "\n",
    "struct student{\n",
    "    int a;\n",
    "    float p;\n",
    "    char f;\n",
    "}\n",
    "\n",
    "struct student s1;\n",
    "           int a;"
   ]
  },
  {
   "cell_type": "code",
   "execution_count": 1,
   "id": "0b19b42b",
   "metadata": {},
   "outputs": [],
   "source": [
    "class Cricket:\n",
    "    \n",
    "    def bat():\n",
    "        print(\"Batting\")\n"
   ]
  },
  {
   "cell_type": "code",
   "execution_count": 2,
   "id": "060506e6",
   "metadata": {},
   "outputs": [
    {
     "ename": "NameError",
     "evalue": "name 'bat' is not defined",
     "output_type": "error",
     "traceback": [
      "\u001b[1;31m---------------------------------------------------------------------------\u001b[0m",
      "\u001b[1;31mNameError\u001b[0m                                 Traceback (most recent call last)",
      "\u001b[1;32m<ipython-input-2-7004d47d541c>\u001b[0m in \u001b[0;36m<module>\u001b[1;34m\u001b[0m\n\u001b[1;32m----> 1\u001b[1;33m \u001b[0mbat\u001b[0m\u001b[1;33m(\u001b[0m\u001b[1;33m)\u001b[0m\u001b[1;33m\u001b[0m\u001b[1;33m\u001b[0m\u001b[0m\n\u001b[0m",
      "\u001b[1;31mNameError\u001b[0m: name 'bat' is not defined"
     ]
    }
   ],
   "source": [
    "bat()"
   ]
  },
  {
   "cell_type": "code",
   "execution_count": null,
   "id": "a9c9d4c4",
   "metadata": {},
   "outputs": [],
   "source": [
    "# self ---> current object"
   ]
  },
  {
   "cell_type": "code",
   "execution_count": 5,
   "id": "d0bd3233",
   "metadata": {},
   "outputs": [],
   "source": [
    "class Cricket:\n",
    "    \n",
    "    def bat(self):\n",
    "        print(\"Batting\")\n",
    "\n",
    "x = Cricket()"
   ]
  },
  {
   "cell_type": "code",
   "execution_count": 6,
   "id": "5053586c",
   "metadata": {},
   "outputs": [
    {
     "name": "stdout",
     "output_type": "stream",
     "text": [
      "Batting\n"
     ]
    }
   ],
   "source": [
    "x.bat()"
   ]
  },
  {
   "cell_type": "code",
   "execution_count": 7,
   "id": "682cc8f4",
   "metadata": {},
   "outputs": [
    {
     "name": "stdout",
     "output_type": "stream",
     "text": [
      "<__main__.Cricket object at 0x000002631117DA60>\n"
     ]
    }
   ],
   "source": [
    "print(x)"
   ]
  },
  {
   "cell_type": "code",
   "execution_count": 8,
   "id": "2e033926",
   "metadata": {},
   "outputs": [
    {
     "name": "stdout",
     "output_type": "stream",
     "text": [
      "2624511793760\n"
     ]
    }
   ],
   "source": [
    "print(id(x))"
   ]
  },
  {
   "cell_type": "code",
   "execution_count": 9,
   "id": "ef206783",
   "metadata": {},
   "outputs": [
    {
     "name": "stdout",
     "output_type": "stream",
     "text": [
      "<__main__.Cricket object at 0x0000026311187550>\n"
     ]
    }
   ],
   "source": [
    "print(Cricket())"
   ]
  },
  {
   "cell_type": "code",
   "execution_count": null,
   "id": "235f27d2",
   "metadata": {},
   "outputs": [],
   "source": [
    "x = Cricket()"
   ]
  },
  {
   "cell_type": "code",
   "execution_count": null,
   "id": "0ff38837",
   "metadata": {},
   "outputs": [],
   "source": [
    "TV blueprint   - class\n",
    "- smart tv\n",
    "- colors\n",
    "- usb\n",
    "- hdmi\n",
    "\n",
    "Actual TV   - object\n",
    "\n",
    "Remote  - reference"
   ]
  }
 ],
 "metadata": {
  "kernelspec": {
   "display_name": "Python 3",
   "language": "python",
   "name": "python3"
  },
  "language_info": {
   "codemirror_mode": {
    "name": "ipython",
    "version": 3
   },
   "file_extension": ".py",
   "mimetype": "text/x-python",
   "name": "python",
   "nbconvert_exporter": "python",
   "pygments_lexer": "ipython3",
   "version": "3.8.10"
  }
 },
 "nbformat": 4,
 "nbformat_minor": 5
}
