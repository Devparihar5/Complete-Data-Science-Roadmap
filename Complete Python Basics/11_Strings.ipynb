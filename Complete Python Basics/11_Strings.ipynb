{
 "cells": [
  {
   "cell_type": "markdown",
   "id": "95fbe66a",
   "metadata": {},
   "source": [
    "# Strings\n"
   ]
  },
  {
   "cell_type": "code",
   "execution_count": 1,
   "id": "f95feadd",
   "metadata": {},
   "outputs": [
    {
     "name": "stdout",
     "output_type": "stream",
     "text": [
      "Indore\n"
     ]
    }
   ],
   "source": [
    "s = \"Indore\"\n",
    "print(s)"
   ]
  },
  {
   "cell_type": "code",
   "execution_count": 3,
   "id": "f23b80db",
   "metadata": {},
   "outputs": [
    {
     "name": "stdout",
     "output_type": "stream",
     "text": [
      "A\n",
      "<class 'str'>\n"
     ]
    }
   ],
   "source": [
    "s = \"A\"\n",
    "print(s)\n",
    "print(type(s))"
   ]
  },
  {
   "cell_type": "code",
   "execution_count": 4,
   "id": "ab69011f",
   "metadata": {},
   "outputs": [
    {
     "name": "stdout",
     "output_type": "stream",
     "text": [
      "<class 'str'>\n"
     ]
    }
   ],
   "source": [
    "a = \"10.5\"\n",
    "print(type(a))"
   ]
  },
  {
   "cell_type": "code",
   "execution_count": 5,
   "id": "dcbc39e6",
   "metadata": {},
   "outputs": [
    {
     "name": "stdout",
     "output_type": "stream",
     "text": [
      "I\n"
     ]
    }
   ],
   "source": [
    "#        -1\n",
    "s = \"Indore\"\n",
    "#    012345\n",
    "print(s[0])"
   ]
  },
  {
   "cell_type": "code",
   "execution_count": 6,
   "id": "7dd30250",
   "metadata": {},
   "outputs": [
    {
     "name": "stdout",
     "output_type": "stream",
     "text": [
      "o\n"
     ]
    }
   ],
   "source": [
    "print(s[3])"
   ]
  },
  {
   "cell_type": "code",
   "execution_count": 7,
   "id": "9bff1869",
   "metadata": {},
   "outputs": [
    {
     "name": "stdout",
     "output_type": "stream",
     "text": [
      "e\n"
     ]
    }
   ],
   "source": [
    "print(s[-1])"
   ]
  },
  {
   "cell_type": "code",
   "execution_count": 9,
   "id": "e27e600e",
   "metadata": {},
   "outputs": [
    {
     "name": "stdout",
     "output_type": "stream",
     "text": [
      "[10, 2]\n"
     ]
    }
   ],
   "source": [
    "l = [1,2]   # mutable\n",
    "l[0] = 10\n",
    "print(l)"
   ]
  },
  {
   "cell_type": "code",
   "execution_count": 8,
   "id": "b982b7e4",
   "metadata": {},
   "outputs": [
    {
     "ename": "TypeError",
     "evalue": "'str' object does not support item assignment",
     "output_type": "error",
     "traceback": [
      "\u001b[1;31m---------------------------------------------------------------------------\u001b[0m",
      "\u001b[1;31mTypeError\u001b[0m                                 Traceback (most recent call last)",
      "\u001b[1;32m<ipython-input-8-7727795c72fa>\u001b[0m in \u001b[0;36m<module>\u001b[1;34m\u001b[0m\n\u001b[0;32m      1\u001b[0m \u001b[0ms\u001b[0m \u001b[1;33m=\u001b[0m \u001b[1;34m\"Indore\"\u001b[0m\u001b[1;33m\u001b[0m\u001b[1;33m\u001b[0m\u001b[0m\n\u001b[1;32m----> 2\u001b[1;33m \u001b[0ms\u001b[0m\u001b[1;33m[\u001b[0m\u001b[1;36m0\u001b[0m\u001b[1;33m]\u001b[0m \u001b[1;33m=\u001b[0m \u001b[1;34m\"A\"\u001b[0m\u001b[1;33m\u001b[0m\u001b[1;33m\u001b[0m\u001b[0m\n\u001b[0m",
      "\u001b[1;31mTypeError\u001b[0m: 'str' object does not support item assignment"
     ]
    }
   ],
   "source": [
    "s = \"Indore\"         # immutable objects\n",
    "s[0] = \"A\""
   ]
  },
  {
   "cell_type": "code",
   "execution_count": 10,
   "id": "6c5a3ac6",
   "metadata": {},
   "outputs": [
    {
     "name": "stdout",
     "output_type": "stream",
     "text": [
      "A\n"
     ]
    }
   ],
   "source": [
    "s = \"Indore\"\n",
    "s = \"A\"\n",
    "print(s)"
   ]
  },
  {
   "cell_type": "code",
   "execution_count": null,
   "id": "13503f7b",
   "metadata": {},
   "outputs": [],
   "source": [
    "1 + 1 = 2 # int - immutable"
   ]
  },
  {
   "cell_type": "markdown",
   "id": "194d9b19",
   "metadata": {},
   "source": [
    "# String Slicing"
   ]
  },
  {
   "cell_type": "code",
   "execution_count": 11,
   "id": "a6d63275",
   "metadata": {},
   "outputs": [],
   "source": [
    "s = \"Communication\"\n",
    "#    0123456789"
   ]
  },
  {
   "cell_type": "code",
   "execution_count": 12,
   "id": "e54641b0",
   "metadata": {},
   "outputs": [
    {
     "name": "stdout",
     "output_type": "stream",
     "text": [
      "omm\n"
     ]
    }
   ],
   "source": [
    "print(s[1:4])"
   ]
  },
  {
   "cell_type": "code",
   "execution_count": 13,
   "id": "beca9837",
   "metadata": {},
   "outputs": [
    {
     "name": "stdout",
     "output_type": "stream",
     "text": [
      "\n"
     ]
    }
   ],
   "source": [
    "print(s[4:1])"
   ]
  },
  {
   "cell_type": "code",
   "execution_count": 16,
   "id": "598cbc98",
   "metadata": {},
   "outputs": [
    {
     "data": {
      "text/plain": [
       "'unica'"
      ]
     },
     "execution_count": 16,
     "metadata": {},
     "output_type": "execute_result"
    }
   ],
   "source": [
    "s[-9:-4]"
   ]
  },
  {
   "cell_type": "code",
   "execution_count": 15,
   "id": "436a5611",
   "metadata": {},
   "outputs": [
    {
     "data": {
      "text/plain": [
       "'Communication'"
      ]
     },
     "execution_count": 15,
     "metadata": {},
     "output_type": "execute_result"
    }
   ],
   "source": [
    "s"
   ]
  },
  {
   "cell_type": "code",
   "execution_count": 18,
   "id": "ffd9e736",
   "metadata": {},
   "outputs": [
    {
     "data": {
      "text/plain": [
       "'Cmuiain'"
      ]
     },
     "execution_count": 18,
     "metadata": {},
     "output_type": "execute_result"
    }
   ],
   "source": [
    "s[0::2] #steps"
   ]
  },
  {
   "cell_type": "code",
   "execution_count": 19,
   "id": "67ed27ca",
   "metadata": {},
   "outputs": [
    {
     "data": {
      "text/plain": [
       "'noitacinummoC'"
      ]
     },
     "execution_count": 19,
     "metadata": {},
     "output_type": "execute_result"
    }
   ],
   "source": [
    "s[::-1]"
   ]
  },
  {
   "cell_type": "code",
   "execution_count": 20,
   "id": "42f004aa",
   "metadata": {},
   "outputs": [
    {
     "name": "stdout",
     "output_type": "stream",
     "text": [
      "12\n"
     ]
    }
   ],
   "source": [
    "n = len(s) - 1\n",
    "print(n)"
   ]
  },
  {
   "cell_type": "code",
   "execution_count": 22,
   "id": "cd677a55",
   "metadata": {},
   "outputs": [
    {
     "name": "stdout",
     "output_type": "stream",
     "text": [
      "n\n"
     ]
    }
   ],
   "source": [
    "print(s[n])"
   ]
  },
  {
   "cell_type": "code",
   "execution_count": 23,
   "id": "badf5eb8",
   "metadata": {},
   "outputs": [
    {
     "data": {
      "text/plain": [
       "'Communication'"
      ]
     },
     "execution_count": 23,
     "metadata": {},
     "output_type": "execute_result"
    }
   ],
   "source": [
    "s"
   ]
  },
  {
   "cell_type": "code",
   "execution_count": 24,
   "id": "dcd6cf3d",
   "metadata": {},
   "outputs": [
    {
     "name": "stdout",
     "output_type": "stream",
     "text": [
      "\n"
     ]
    }
   ],
   "source": [
    "print(s[1:4:-1])"
   ]
  },
  {
   "cell_type": "code",
   "execution_count": 25,
   "id": "a756e1c9",
   "metadata": {},
   "outputs": [
    {
     "name": "stdout",
     "output_type": "stream",
     "text": [
      "umm\n"
     ]
    }
   ],
   "source": [
    "print(s[4:1:-1])"
   ]
  },
  {
   "cell_type": "code",
   "execution_count": 26,
   "id": "a1d18d79",
   "metadata": {},
   "outputs": [
    {
     "ename": "ValueError",
     "evalue": "slice step cannot be zero",
     "output_type": "error",
     "traceback": [
      "\u001b[1;31m---------------------------------------------------------------------------\u001b[0m",
      "\u001b[1;31mValueError\u001b[0m                                Traceback (most recent call last)",
      "\u001b[1;32m<ipython-input-26-233ebc5e122e>\u001b[0m in \u001b[0;36m<module>\u001b[1;34m\u001b[0m\n\u001b[1;32m----> 1\u001b[1;33m \u001b[0mprint\u001b[0m\u001b[1;33m(\u001b[0m\u001b[0ms\u001b[0m\u001b[1;33m[\u001b[0m\u001b[1;33m:\u001b[0m\u001b[1;33m:\u001b[0m\u001b[1;36m0\u001b[0m\u001b[1;33m]\u001b[0m\u001b[1;33m)\u001b[0m\u001b[1;33m\u001b[0m\u001b[1;33m\u001b[0m\u001b[0m\n\u001b[0m",
      "\u001b[1;31mValueError\u001b[0m: slice step cannot be zero"
     ]
    }
   ],
   "source": [
    "print(s[::0])"
   ]
  },
  {
   "cell_type": "markdown",
   "id": "67af6ca1",
   "metadata": {},
   "source": [
    "# String Functions"
   ]
  },
  {
   "cell_type": "code",
   "execution_count": 27,
   "id": "2479f5db",
   "metadata": {},
   "outputs": [
    {
     "name": "stdout",
     "output_type": "stream",
     "text": [
      "5\n"
     ]
    }
   ],
   "source": [
    "s = \"India\"\n",
    "\n",
    "print(len(s))"
   ]
  },
  {
   "cell_type": "code",
   "execution_count": null,
   "id": "72fa5433",
   "metadata": {},
   "outputs": [],
   "source": [
    "A - 65  # ASCII\n",
    "B - 66\n",
    "\n",
    "Z - 90\n",
    "\n",
    "space - 32\n",
    "\n",
    "a - 97\n",
    "z - 122"
   ]
  },
  {
   "cell_type": "code",
   "execution_count": 28,
   "id": "5a4b71fe",
   "metadata": {},
   "outputs": [
    {
     "name": "stdout",
     "output_type": "stream",
     "text": [
      "n\n"
     ]
    }
   ],
   "source": [
    "print(max(s))"
   ]
  },
  {
   "cell_type": "code",
   "execution_count": 29,
   "id": "d4deeb83",
   "metadata": {},
   "outputs": [
    {
     "name": "stdout",
     "output_type": "stream",
     "text": [
      "I\n"
     ]
    }
   ],
   "source": [
    "print(min(s))"
   ]
  },
  {
   "cell_type": "code",
   "execution_count": 30,
   "id": "4dbcae9e",
   "metadata": {},
   "outputs": [
    {
     "data": {
      "text/plain": [
       "'AB'"
      ]
     },
     "execution_count": 30,
     "metadata": {},
     "output_type": "execute_result"
    }
   ],
   "source": [
    "\"A\" + \"B\""
   ]
  },
  {
   "cell_type": "code",
   "execution_count": 31,
   "id": "87f3cf17",
   "metadata": {},
   "outputs": [
    {
     "ename": "TypeError",
     "evalue": "unsupported operand type(s) for +: 'int' and 'str'",
     "output_type": "error",
     "traceback": [
      "\u001b[1;31m---------------------------------------------------------------------------\u001b[0m",
      "\u001b[1;31mTypeError\u001b[0m                                 Traceback (most recent call last)",
      "\u001b[1;32m<ipython-input-31-09c2c04bb2d7>\u001b[0m in \u001b[0;36m<module>\u001b[1;34m\u001b[0m\n\u001b[1;32m----> 1\u001b[1;33m \u001b[0mprint\u001b[0m\u001b[1;33m(\u001b[0m\u001b[0msum\u001b[0m\u001b[1;33m(\u001b[0m\u001b[0ms\u001b[0m\u001b[1;33m)\u001b[0m\u001b[1;33m)\u001b[0m\u001b[1;33m\u001b[0m\u001b[1;33m\u001b[0m\u001b[0m\n\u001b[0m",
      "\u001b[1;31mTypeError\u001b[0m: unsupported operand type(s) for +: 'int' and 'str'"
     ]
    }
   ],
   "source": [
    "print(sum(s))"
   ]
  },
  {
   "cell_type": "markdown",
   "id": "d859aea7",
   "metadata": {},
   "source": [
    "# Boolean"
   ]
  },
  {
   "cell_type": "code",
   "execution_count": 33,
   "id": "990937e5",
   "metadata": {},
   "outputs": [
    {
     "name": "stdout",
     "output_type": "stream",
     "text": [
      "<class 'bool'>\n"
     ]
    }
   ],
   "source": [
    "print(type(True))"
   ]
  },
  {
   "cell_type": "code",
   "execution_count": 34,
   "id": "452810fe",
   "metadata": {},
   "outputs": [
    {
     "name": "stdout",
     "output_type": "stream",
     "text": [
      "True\n"
     ]
    }
   ],
   "source": [
    "print(bool(10))"
   ]
  },
  {
   "cell_type": "code",
   "execution_count": 35,
   "id": "0e749abb",
   "metadata": {},
   "outputs": [
    {
     "name": "stdout",
     "output_type": "stream",
     "text": [
      "True\n"
     ]
    }
   ],
   "source": [
    "print(bool(1))"
   ]
  },
  {
   "cell_type": "code",
   "execution_count": 36,
   "id": "50200df9",
   "metadata": {},
   "outputs": [
    {
     "name": "stdout",
     "output_type": "stream",
     "text": [
      "False\n"
     ]
    }
   ],
   "source": [
    "print(bool(0))"
   ]
  },
  {
   "cell_type": "code",
   "execution_count": 37,
   "id": "ad961fd7",
   "metadata": {},
   "outputs": [
    {
     "name": "stdout",
     "output_type": "stream",
     "text": [
      "True\n"
     ]
    }
   ],
   "source": [
    "print(bool('A'))"
   ]
  },
  {
   "cell_type": "code",
   "execution_count": 38,
   "id": "8e047567",
   "metadata": {},
   "outputs": [
    {
     "name": "stdout",
     "output_type": "stream",
     "text": [
      "True\n"
     ]
    }
   ],
   "source": [
    "print(bool(\"India\"))"
   ]
  },
  {
   "cell_type": "code",
   "execution_count": 39,
   "id": "b1856678",
   "metadata": {},
   "outputs": [
    {
     "name": "stdout",
     "output_type": "stream",
     "text": [
      "True\n"
     ]
    }
   ],
   "source": [
    "print(bool(\" \"))"
   ]
  },
  {
   "cell_type": "code",
   "execution_count": 40,
   "id": "bff9a3a8",
   "metadata": {},
   "outputs": [
    {
     "name": "stdout",
     "output_type": "stream",
     "text": [
      "False\n"
     ]
    }
   ],
   "source": [
    "print(bool(\"\"))"
   ]
  },
  {
   "cell_type": "markdown",
   "id": "dedf173c",
   "metadata": {},
   "source": [
    "# String Methods\n",
    "\n",
    "#### join"
   ]
  },
  {
   "cell_type": "code",
   "execution_count": 41,
   "id": "215decfd",
   "metadata": {},
   "outputs": [
    {
     "name": "stdout",
     "output_type": "stream",
     "text": [
      "A*C*D*B\n"
     ]
    }
   ],
   "source": [
    "l = [\"A\",\"C\",\"D\",\"B\"]\n",
    "s = \"*\"\n",
    "\n",
    "print(s.join(l))"
   ]
  },
  {
   "cell_type": "code",
   "execution_count": 42,
   "id": "bfe97ee0",
   "metadata": {},
   "outputs": [
    {
     "name": "stdout",
     "output_type": "stream",
     "text": [
      "A+C+D+B\n"
     ]
    }
   ],
   "source": [
    "l = [\"A\",\"C\",\"D\",\"B\"]\n",
    "s = \"+\"\n",
    "\n",
    "print(s.join(l))"
   ]
  },
  {
   "cell_type": "code",
   "execution_count": 43,
   "id": "3e922b27",
   "metadata": {},
   "outputs": [
    {
     "name": "stdout",
     "output_type": "stream",
     "text": [
      "A C D B\n"
     ]
    }
   ],
   "source": [
    "l = [\"A\",\"C\",\"D\",\"B\"]\n",
    "s = \" \"\n",
    "\n",
    "print(s.join(l))"
   ]
  },
  {
   "cell_type": "code",
   "execution_count": 44,
   "id": "39fe0099",
   "metadata": {},
   "outputs": [
    {
     "name": "stdout",
     "output_type": "stream",
     "text": [
      "ACDB\n"
     ]
    }
   ],
   "source": [
    "l = [\"A\",\"C\",\"D\",\"B\"]\n",
    "s = \"\"\n",
    "\n",
    "print(s.join(l))"
   ]
  },
  {
   "cell_type": "code",
   "execution_count": 45,
   "id": "1ccb30a9",
   "metadata": {},
   "outputs": [
    {
     "name": "stdout",
     "output_type": "stream",
     "text": [
      "A + C + D + B\n"
     ]
    }
   ],
   "source": [
    "l = [\"A\",\"C\",\"D\",\"B\"]\n",
    "print(\" + \".join(l))"
   ]
  },
  {
   "cell_type": "markdown",
   "id": "2b297816",
   "metadata": {},
   "source": [
    "#### replace"
   ]
  },
  {
   "cell_type": "code",
   "execution_count": 46,
   "id": "4ac6544d",
   "metadata": {},
   "outputs": [
    {
     "name": "stdout",
     "output_type": "stream",
     "text": [
      "This is the best tea\n"
     ]
    }
   ],
   "source": [
    "r = \"This is the best momo\"\n",
    "\n",
    "print(r.replace(\"momo\",\"tea\"))"
   ]
  },
  {
   "cell_type": "code",
   "execution_count": 47,
   "id": "b84b0a57",
   "metadata": {},
   "outputs": [
    {
     "name": "stdout",
     "output_type": "stream",
     "text": [
      "This is the good momo, good in the town\n"
     ]
    }
   ],
   "source": [
    "r = \"This is the best momo, best in the town\"\n",
    "\n",
    "print(r.replace(\"best\",\"good\"))"
   ]
  },
  {
   "cell_type": "markdown",
   "id": "7b4c5f6c",
   "metadata": {},
   "source": [
    "#### upper and lower"
   ]
  },
  {
   "cell_type": "code",
   "execution_count": 48,
   "id": "3720410f",
   "metadata": {},
   "outputs": [
    {
     "name": "stdout",
     "output_type": "stream",
     "text": [
      "INDIA\n"
     ]
    }
   ],
   "source": [
    "a = \"India\"\n",
    "print(a.upper())"
   ]
  },
  {
   "cell_type": "code",
   "execution_count": 49,
   "id": "95f551bb",
   "metadata": {},
   "outputs": [
    {
     "name": "stdout",
     "output_type": "stream",
     "text": [
      "india\n"
     ]
    }
   ],
   "source": [
    "print(a.lower())"
   ]
  },
  {
   "cell_type": "markdown",
   "id": "4022541a",
   "metadata": {},
   "source": [
    "#### split"
   ]
  },
  {
   "cell_type": "code",
   "execution_count": 50,
   "id": "bbdaa0a5",
   "metadata": {},
   "outputs": [
    {
     "name": "stdout",
     "output_type": "stream",
     "text": [
      "['Hello', 'world', 'rahul']\n"
     ]
    }
   ],
   "source": [
    "r = \"Hello world rahul\"\n",
    "\n",
    "print(r.split(\" \"))"
   ]
  },
  {
   "cell_type": "code",
   "execution_count": 51,
   "id": "53b36ae9",
   "metadata": {},
   "outputs": [
    {
     "name": "stdout",
     "output_type": "stream",
     "text": [
      "['Hello', 'orld rahul']\n"
     ]
    }
   ],
   "source": [
    "r = \"Helloworld rahul\"\n",
    "\n",
    "print(r.split(\"w\"))"
   ]
  },
  {
   "cell_type": "code",
   "execution_count": 57,
   "id": "1a1a7a03",
   "metadata": {},
   "outputs": [
    {
     "name": "stdout",
     "output_type": "stream",
     "text": [
      "['Helloworld', 'rahul']\n"
     ]
    }
   ],
   "source": [
    "r = \"Helloworld rahul\"\n",
    "\n",
    "print(r.split(sep=\" \"))"
   ]
  },
  {
   "cell_type": "code",
   "execution_count": 55,
   "id": "dc8c5f8e",
   "metadata": {},
   "outputs": [],
   "source": [
    "r.split?"
   ]
  },
  {
   "cell_type": "markdown",
   "id": "d1c14a2f",
   "metadata": {},
   "source": [
    "# Questions"
   ]
  },
  {
   "cell_type": "code",
   "execution_count": 59,
   "id": "2cc7e4ee",
   "metadata": {},
   "outputs": [],
   "source": [
    "s = \"1+2+3+4+5\"\n",
    "#    01234"
   ]
  },
  {
   "cell_type": "code",
   "execution_count": 60,
   "id": "d68b6b4b",
   "metadata": {},
   "outputs": [
    {
     "data": {
      "text/plain": [
       "['1', '2', '3', '4', '5']"
      ]
     },
     "execution_count": 60,
     "metadata": {},
     "output_type": "execute_result"
    }
   ],
   "source": [
    "s.split(\"+\")"
   ]
  },
  {
   "cell_type": "markdown",
   "id": "d49f9308",
   "metadata": {},
   "source": [
    "**WAP to print length of a string without using len function**"
   ]
  },
  {
   "cell_type": "code",
   "execution_count": null,
   "id": "b1fc3d29",
   "metadata": {},
   "outputs": [],
   "source": []
  },
  {
   "cell_type": "markdown",
   "id": "8aa4e191",
   "metadata": {},
   "source": [
    "a = \"remote\"\n",
    "\n",
    "a <= 2--> \"invalid\"\n",
    "\n",
    "rete\n",
    "\n",
    "abc  --> abbc"
   ]
  },
  {
   "cell_type": "code",
   "execution_count": 64,
   "id": "da383f56",
   "metadata": {},
   "outputs": [
    {
     "name": "stdout",
     "output_type": "stream",
     "text": [
      "Enter a string: abc\n",
      "abbc\n"
     ]
    }
   ],
   "source": [
    "n = input(\"Enter a string: \")\n",
    "\n",
    "if len(n) <= 2:\n",
    "    print(\"Invalid String\")\n",
    "else:\n",
    "    print(n[:2] + n[-2:])"
   ]
  },
  {
   "cell_type": "code",
   "execution_count": null,
   "id": "9c0aa224",
   "metadata": {},
   "outputs": [],
   "source": [
    "\"restart\"\n",
    "\n",
    "resta@t\n",
    "\n",
    "\"level\"\n",
    "\n",
    "leve@"
   ]
  },
  {
   "cell_type": "code",
   "execution_count": 1,
   "id": "2f4377af",
   "metadata": {},
   "outputs": [
    {
     "name": "stdout",
     "output_type": "stream",
     "text": [
      "enter a string:hello\n",
      "5\n"
     ]
    }
   ],
   "source": [
    "s  = input(\"enter a string:\")\n",
    "i = 0\n",
    "\n",
    "while i<len(s):\n",
    "    i = i+1\n",
    "print(i)"
   ]
  },
  {
   "cell_type": "code",
   "execution_count": null,
   "id": "5d2ec734",
   "metadata": {},
   "outputs": [],
   "source": []
  }
 ],
 "metadata": {
  "kernelspec": {
   "display_name": "Python 3",
   "language": "python",
   "name": "python3"
  },
  "language_info": {
   "codemirror_mode": {
    "name": "ipython",
    "version": 3
   },
   "file_extension": ".py",
   "mimetype": "text/x-python",
   "name": "python",
   "nbconvert_exporter": "python",
   "pygments_lexer": "ipython3",
   "version": "3.8.10"
  }
 },
 "nbformat": 4,
 "nbformat_minor": 5
}
