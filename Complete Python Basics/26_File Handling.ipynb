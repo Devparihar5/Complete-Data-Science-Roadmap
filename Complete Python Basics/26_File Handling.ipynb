{
 "cells": [
  {
   "cell_type": "markdown",
   "id": "a12234db",
   "metadata": {},
   "source": [
    "# File Handling"
   ]
  },
  {
   "attachments": {},
   "cell_type": "markdown",
   "id": "ab7f696e",
   "metadata": {},
   "source": [
    "txt,\n",
    "png,\n",
    "mp3,\n",
    "mp4,\n",
    "csv,\n",
    "xlsv\n",
    "\n",
    "\n",
    "### mode\n",
    "\n",
    "\n",
    "r - read\n",
    "a - append\n",
    "w - write"
   ]
  },
  {
   "cell_type": "code",
   "execution_count": 1,
   "id": "580b97b1",
   "metadata": {},
   "outputs": [
    {
     "name": "stdout",
     "output_type": "stream",
     "text": [
      "<_io.TextIOWrapper name='student.txt' mode='r' encoding='cp1252'>\n"
     ]
    }
   ],
   "source": [
    "f = open(\"student.txt\",'r')\n",
    "print(f)"
   ]
  },
  {
   "cell_type": "code",
   "execution_count": 2,
   "id": "922f2144",
   "metadata": {},
   "outputs": [
    {
     "name": "stdout",
     "output_type": "stream",
     "text": [
      "this is the best file handling session.\n"
     ]
    }
   ],
   "source": [
    "print(f.read())"
   ]
  },
  {
   "cell_type": "code",
   "execution_count": 3,
   "id": "a09c4bfa",
   "metadata": {},
   "outputs": [],
   "source": [
    "f.close()"
   ]
  },
  {
   "cell_type": "code",
   "execution_count": 10,
   "id": "7998c4a4",
   "metadata": {},
   "outputs": [
    {
     "data": {
      "text/plain": [
       "'this is the best file handling session.\\n'"
      ]
     },
     "execution_count": 10,
     "metadata": {},
     "output_type": "execute_result"
    }
   ],
   "source": [
    "f = open(\"student.txt\",'r')\n",
    "f.readline()"
   ]
  },
  {
   "cell_type": "code",
   "execution_count": 12,
   "id": "30ffb1e3",
   "metadata": {},
   "outputs": [
    {
     "data": {
      "text/plain": [
       "['this is the best file handling session.\\n',\n",
       " 'we are the best.\\n',\n",
       " 'This is india.']"
      ]
     },
     "execution_count": 12,
     "metadata": {},
     "output_type": "execute_result"
    }
   ],
   "source": [
    "f = open(\"student.txt\",'r')\n",
    "\n",
    "f.readlines()"
   ]
  },
  {
   "cell_type": "markdown",
   "id": "6d59f414",
   "metadata": {},
   "source": [
    "### write a file"
   ]
  },
  {
   "cell_type": "code",
   "execution_count": 13,
   "id": "c5c40717",
   "metadata": {},
   "outputs": [],
   "source": [
    "f = open(\"indore.txt\",'w')\n",
    "\n",
    "f.write(\"hello from india.\")\n",
    "f.close()"
   ]
  },
  {
   "cell_type": "code",
   "execution_count": 14,
   "id": "9a63ee11",
   "metadata": {},
   "outputs": [
    {
     "data": {
      "text/plain": [
       "'hello from india.'"
      ]
     },
     "execution_count": 14,
     "metadata": {},
     "output_type": "execute_result"
    }
   ],
   "source": [
    "f = open(\"indore.txt\",'r')\n",
    "\n",
    "f.read()"
   ]
  },
  {
   "cell_type": "markdown",
   "id": "0274bad8",
   "metadata": {},
   "source": [
    "### append a file"
   ]
  },
  {
   "cell_type": "code",
   "execution_count": 18,
   "id": "6dec8f6a",
   "metadata": {},
   "outputs": [],
   "source": [
    "f = open(\"student.txt\", 'a')\n",
    "\n",
    "f.write(\"string from append mode\")\n",
    "\n",
    "f.close()"
   ]
  },
  {
   "cell_type": "code",
   "execution_count": 19,
   "id": "2a229b65",
   "metadata": {},
   "outputs": [
    {
     "name": "stdout",
     "output_type": "stream",
     "text": [
      "this is the best file handling session.\n",
      "we are the best.\n",
      "This is india.\n",
      "string from append modestring from append mode\n"
     ]
    }
   ],
   "source": [
    "f = open(\"student.txt\", 'r')\n",
    "\n",
    "print(f.read())"
   ]
  },
  {
   "cell_type": "code",
   "execution_count": null,
   "id": "904e1668",
   "metadata": {},
   "outputs": [],
   "source": []
  }
 ],
 "metadata": {
  "kernelspec": {
   "display_name": "Python 3",
   "language": "python",
   "name": "python3"
  },
  "language_info": {
   "codemirror_mode": {
    "name": "ipython",
    "version": 3
   },
   "file_extension": ".py",
   "mimetype": "text/x-python",
   "name": "python",
   "nbconvert_exporter": "python",
   "pygments_lexer": "ipython3",
   "version": "3.8.10"
  }
 },
 "nbformat": 4,
 "nbformat_minor": 5
}
