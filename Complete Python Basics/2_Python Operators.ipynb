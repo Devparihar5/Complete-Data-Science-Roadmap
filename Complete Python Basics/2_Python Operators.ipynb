{
 "cells": [
  {
   "cell_type": "markdown",
   "id": "4fa32f97",
   "metadata": {},
   "source": [
    "# Operators\n",
    "\n",
    "1. Arithmetics Operators"
   ]
  },
  {
   "cell_type": "code",
   "execution_count": null,
   "id": "3970e8ce",
   "metadata": {},
   "outputs": [],
   "source": [
    "+, -, *, /, %, **, //"
   ]
  },
  {
   "cell_type": "code",
   "execution_count": 1,
   "id": "72514153",
   "metadata": {},
   "outputs": [
    {
     "name": "stdout",
     "output_type": "stream",
     "text": [
      "30\n"
     ]
    }
   ],
   "source": [
    "print(10+20)"
   ]
  },
  {
   "cell_type": "code",
   "execution_count": 2,
   "id": "d5e11167",
   "metadata": {},
   "outputs": [
    {
     "data": {
      "text/plain": [
       "1"
      ]
     },
     "execution_count": 2,
     "metadata": {},
     "output_type": "execute_result"
    }
   ],
   "source": [
    "7 % 2  #modulo"
   ]
  },
  {
   "cell_type": "code",
   "execution_count": 3,
   "id": "13e1685c",
   "metadata": {},
   "outputs": [
    {
     "data": {
      "text/plain": [
       "2"
      ]
     },
     "execution_count": 3,
     "metadata": {},
     "output_type": "execute_result"
    }
   ],
   "source": [
    "11 % 3"
   ]
  },
  {
   "cell_type": "code",
   "execution_count": 4,
   "id": "69e1dd52",
   "metadata": {},
   "outputs": [
    {
     "data": {
      "text/plain": [
       "0"
      ]
     },
     "execution_count": 4,
     "metadata": {},
     "output_type": "execute_result"
    }
   ],
   "source": [
    "18 % 6"
   ]
  },
  {
   "cell_type": "code",
   "execution_count": 5,
   "id": "15ddb61e",
   "metadata": {},
   "outputs": [
    {
     "data": {
      "text/plain": [
       "3"
      ]
     },
     "execution_count": 5,
     "metadata": {},
     "output_type": "execute_result"
    }
   ],
   "source": [
    "7 // 2  # floor division"
   ]
  },
  {
   "cell_type": "code",
   "execution_count": 6,
   "id": "c886eacd",
   "metadata": {},
   "outputs": [
    {
     "data": {
      "text/plain": [
       "3"
      ]
     },
     "execution_count": 6,
     "metadata": {},
     "output_type": "execute_result"
    }
   ],
   "source": [
    "11 // 3   # 3.6666"
   ]
  },
  {
   "cell_type": "code",
   "execution_count": 7,
   "id": "5a2206fb",
   "metadata": {},
   "outputs": [
    {
     "data": {
      "text/plain": [
       "8"
      ]
     },
     "execution_count": 7,
     "metadata": {},
     "output_type": "execute_result"
    }
   ],
   "source": [
    "2 ** 3   # 2 to the power 3"
   ]
  },
  {
   "cell_type": "code",
   "execution_count": 8,
   "id": "b6162c65",
   "metadata": {},
   "outputs": [
    {
     "data": {
      "text/plain": [
       "343"
      ]
     },
     "execution_count": 8,
     "metadata": {},
     "output_type": "execute_result"
    }
   ],
   "source": [
    "7 ** 3 "
   ]
  },
  {
   "cell_type": "markdown",
   "id": "5495cdb8",
   "metadata": {},
   "source": [
    "2. Boolean O."
   ]
  },
  {
   "cell_type": "code",
   "execution_count": null,
   "id": "a3c1a549",
   "metadata": {},
   "outputs": [],
   "source": [
    "True   - 1\n",
    "\n",
    "False  - 0"
   ]
  },
  {
   "cell_type": "markdown",
   "id": "f415402c",
   "metadata": {},
   "source": [
    "2. Logical Operators\n",
    "\n",
    "not\n",
    "\n",
    "and\n",
    "\n",
    "or"
   ]
  },
  {
   "cell_type": "code",
   "execution_count": 9,
   "id": "052a4864",
   "metadata": {},
   "outputs": [
    {
     "name": "stdout",
     "output_type": "stream",
     "text": [
      "False\n"
     ]
    }
   ],
   "source": [
    "print(not True)"
   ]
  },
  {
   "cell_type": "code",
   "execution_count": 10,
   "id": "c0af3653",
   "metadata": {},
   "outputs": [
    {
     "name": "stdout",
     "output_type": "stream",
     "text": [
      "True\n"
     ]
    }
   ],
   "source": [
    "print(not False)"
   ]
  },
  {
   "cell_type": "code",
   "execution_count": null,
   "id": "15466449",
   "metadata": {},
   "outputs": [],
   "source": [
    "Truth Table\n",
    "\n",
    "0  and  0  -- 0\n",
    "0  and  1  -- 0\n",
    "1  and  0  -- 0\n",
    "1  and  1  -- 1\n"
   ]
  },
  {
   "cell_type": "code",
   "execution_count": 11,
   "id": "a2d85c23",
   "metadata": {},
   "outputs": [
    {
     "name": "stdout",
     "output_type": "stream",
     "text": [
      "False\n"
     ]
    }
   ],
   "source": [
    "print(True and False)"
   ]
  },
  {
   "cell_type": "code",
   "execution_count": null,
   "id": "a56d0e43",
   "metadata": {},
   "outputs": [],
   "source": [
    "Truth Table\n",
    "\n",
    "0  or  0  -- 0\n",
    "0  or  1  -- 1\n",
    "1  or  0  -- 1\n",
    "1  or  1  -- 1\n"
   ]
  },
  {
   "cell_type": "code",
   "execution_count": 12,
   "id": "9feb9eec",
   "metadata": {},
   "outputs": [
    {
     "name": "stdout",
     "output_type": "stream",
     "text": [
      "True\n"
     ]
    }
   ],
   "source": [
    "print(True or False)"
   ]
  },
  {
   "cell_type": "code",
   "execution_count": 13,
   "id": "f508536e",
   "metadata": {},
   "outputs": [
    {
     "name": "stdout",
     "output_type": "stream",
     "text": [
      "False\n"
     ]
    }
   ],
   "source": [
    "print(False or False)"
   ]
  },
  {
   "cell_type": "code",
   "execution_count": 14,
   "id": "2d472b3a",
   "metadata": {},
   "outputs": [
    {
     "data": {
      "text/plain": [
       "True"
      ]
     },
     "execution_count": 14,
     "metadata": {},
     "output_type": "execute_result"
    }
   ],
   "source": [
    "True and False and not False or True or not False\n",
    "#     F               T                    T\n",
    "#               F\n",
    "#                            T\n",
    "#                                   T"
   ]
  },
  {
   "cell_type": "code",
   "execution_count": null,
   "id": "97f13fc5",
   "metadata": {},
   "outputs": [],
   "source": [
    "True and False and not False or True or not False and not False or True or not False"
   ]
  },
  {
   "cell_type": "markdown",
   "id": "5a24df83",
   "metadata": {},
   "source": [
    "4. Relational O."
   ]
  },
  {
   "cell_type": "code",
   "execution_count": null,
   "id": "3671bfe5",
   "metadata": {},
   "outputs": [],
   "source": [
    "> , < , >=  , <=  , != , =="
   ]
  },
  {
   "cell_type": "code",
   "execution_count": 15,
   "id": "6c971f9e",
   "metadata": {},
   "outputs": [
    {
     "data": {
      "text/plain": [
       "True"
      ]
     },
     "execution_count": 15,
     "metadata": {},
     "output_type": "execute_result"
    }
   ],
   "source": [
    "10 > 5"
   ]
  },
  {
   "cell_type": "code",
   "execution_count": 16,
   "id": "9daab97f",
   "metadata": {},
   "outputs": [
    {
     "data": {
      "text/plain": [
       "True"
      ]
     },
     "execution_count": 16,
     "metadata": {},
     "output_type": "execute_result"
    }
   ],
   "source": [
    "10 >= 10"
   ]
  },
  {
   "cell_type": "code",
   "execution_count": 17,
   "id": "5a1ac375",
   "metadata": {},
   "outputs": [
    {
     "data": {
      "text/plain": [
       "False"
      ]
     },
     "execution_count": 17,
     "metadata": {},
     "output_type": "execute_result"
    }
   ],
   "source": [
    "10 != 10"
   ]
  },
  {
   "cell_type": "code",
   "execution_count": 18,
   "id": "5b2bdf09",
   "metadata": {},
   "outputs": [
    {
     "data": {
      "text/plain": [
       "False"
      ]
     },
     "execution_count": 18,
     "metadata": {},
     "output_type": "execute_result"
    }
   ],
   "source": [
    "10 == 11"
   ]
  },
  {
   "cell_type": "code",
   "execution_count": 19,
   "id": "da4cb4aa",
   "metadata": {},
   "outputs": [
    {
     "data": {
      "text/plain": [
       "True"
      ]
     },
     "execution_count": 19,
     "metadata": {},
     "output_type": "execute_result"
    }
   ],
   "source": [
    "10 == 10"
   ]
  },
  {
   "cell_type": "markdown",
   "id": "90f90f49",
   "metadata": {},
   "source": [
    "5. Assignment O."
   ]
  },
  {
   "cell_type": "code",
   "execution_count": null,
   "id": "814ffcaf",
   "metadata": {},
   "outputs": [],
   "source": [
    "= , += , -= , *= , /= , %= , //= , **="
   ]
  },
  {
   "cell_type": "code",
   "execution_count": 20,
   "id": "8e48e1cb",
   "metadata": {},
   "outputs": [
    {
     "name": "stdout",
     "output_type": "stream",
     "text": [
      "15\n"
     ]
    }
   ],
   "source": [
    "a = 10\n",
    "a += 5   # a = a + 5\n",
    "print(a)"
   ]
  },
  {
   "cell_type": "code",
   "execution_count": 21,
   "id": "8cf07fe1",
   "metadata": {},
   "outputs": [
    {
     "name": "stdout",
     "output_type": "stream",
     "text": [
      "0\n"
     ]
    }
   ],
   "source": [
    "a = 10\n",
    "a %= 2   # a = a % 2\n",
    "print(a)"
   ]
  },
  {
   "cell_type": "code",
   "execution_count": 22,
   "id": "2e6b162e",
   "metadata": {},
   "outputs": [
    {
     "name": "stdout",
     "output_type": "stream",
     "text": [
      "100\n"
     ]
    }
   ],
   "source": [
    "a = 10\n",
    "a **= 2   # a = a ** 2\n",
    "print(a)"
   ]
  },
  {
   "cell_type": "code",
   "execution_count": null,
   "id": "6d9129b1",
   "metadata": {},
   "outputs": [],
   "source": [
    "++\n",
    "--"
   ]
  },
  {
   "cell_type": "code",
   "execution_count": 23,
   "id": "c8122b3c",
   "metadata": {},
   "outputs": [
    {
     "name": "stdout",
     "output_type": "stream",
     "text": [
      "11\n"
     ]
    }
   ],
   "source": [
    "a = 10\n",
    "a += 1\n",
    "print(a)"
   ]
  },
  {
   "cell_type": "markdown",
   "id": "a7e9edfd",
   "metadata": {},
   "source": [
    "6. Bitwise O."
   ]
  },
  {
   "cell_type": "code",
   "execution_count": null,
   "id": "e05224d4",
   "metadata": {},
   "outputs": [],
   "source": [
    "&  bitwise and\n",
    "|  bitwise  or\n",
    "^  bitwise  xor\n",
    "<<          left shift\n",
    ">>          right shift"
   ]
  },
  {
   "cell_type": "code",
   "execution_count": null,
   "id": "feb6617f",
   "metadata": {},
   "outputs": [],
   "source": [
    "1024    512    256    128    64    32    16    8    4    2    1\n",
    "#                                              1    0    0    1\n",
    "#                             1     0     1    1    0    0    0 \n",
    "#                                              1    1    1    1"
   ]
  },
  {
   "cell_type": "code",
   "execution_count": null,
   "id": "7b5ba1b5",
   "metadata": {},
   "outputs": [],
   "source": [
    "1 byte  -  8 bits\n",
    "2 byte  -  16 bits\n",
    "4 byte  -  32 bits"
   ]
  },
  {
   "cell_type": "code",
   "execution_count": null,
   "id": "d0db4689",
   "metadata": {},
   "outputs": [],
   "source": [
    "Truth Table\n",
    "\n",
    "0  &  0  -- 0\n",
    "0  &  1  -- 0\n",
    "1  &  0  -- 0\n",
    "1  &  1  -- 1\n"
   ]
  },
  {
   "cell_type": "code",
   "execution_count": 24,
   "id": "2ff5ebbc",
   "metadata": {},
   "outputs": [
    {
     "data": {
      "text/plain": [
       "0"
      ]
     },
     "execution_count": 24,
     "metadata": {},
     "output_type": "execute_result"
    }
   ],
   "source": [
    "8 & 2   # 1000\n",
    "        # 0010\n",
    "        # 0000"
   ]
  },
  {
   "cell_type": "code",
   "execution_count": 25,
   "id": "5af927c4",
   "metadata": {},
   "outputs": [
    {
     "data": {
      "text/plain": [
       "0"
      ]
     },
     "execution_count": 25,
     "metadata": {},
     "output_type": "execute_result"
    }
   ],
   "source": [
    "11 & 4  # 1011\n",
    "        # 0100\n",
    "        # 0000"
   ]
  },
  {
   "cell_type": "code",
   "execution_count": 26,
   "id": "999805d0",
   "metadata": {},
   "outputs": [
    {
     "data": {
      "text/plain": [
       "1"
      ]
     },
     "execution_count": 26,
     "metadata": {},
     "output_type": "execute_result"
    }
   ],
   "source": [
    "11 & 5  # 1011\n",
    "        # 0101\n",
    "        # 0001"
   ]
  },
  {
   "cell_type": "code",
   "execution_count": null,
   "id": "286f437c",
   "metadata": {},
   "outputs": [],
   "source": [
    "Truth Table\n",
    "\n",
    "0  |  0  -- 0\n",
    "0  |  1  -- 1\n",
    "1  |  0  -- 1\n",
    "1  |  1  -- 1\n"
   ]
  },
  {
   "cell_type": "code",
   "execution_count": 27,
   "id": "f3d6d741",
   "metadata": {},
   "outputs": [
    {
     "data": {
      "text/plain": [
       "15"
      ]
     },
     "execution_count": 27,
     "metadata": {},
     "output_type": "execute_result"
    }
   ],
   "source": [
    "7 | 9  # 0111\n",
    "       # 1001\n",
    "       # 1111"
   ]
  },
  {
   "cell_type": "code",
   "execution_count": null,
   "id": "bbbe7fa7",
   "metadata": {},
   "outputs": [],
   "source": [
    "Truth Table\n",
    "\n",
    "0  ^  0  -- 0\n",
    "0  ^  1  -- 1\n",
    "1  ^  0  -- 1\n",
    "1  ^  1  -- 0\n"
   ]
  },
  {
   "cell_type": "code",
   "execution_count": 28,
   "id": "96a41861",
   "metadata": {},
   "outputs": [
    {
     "data": {
      "text/plain": [
       "9"
      ]
     },
     "execution_count": 28,
     "metadata": {},
     "output_type": "execute_result"
    }
   ],
   "source": [
    "15 ^ 6  # 1111\n",
    "        # 0110\n",
    "        # 1001"
   ]
  },
  {
   "cell_type": "code",
   "execution_count": 29,
   "id": "afd33e67",
   "metadata": {},
   "outputs": [
    {
     "data": {
      "text/plain": [
       "32"
      ]
     },
     "execution_count": 29,
     "metadata": {},
     "output_type": "execute_result"
    }
   ],
   "source": [
    "8 << 2   # 000100000"
   ]
  },
  {
   "cell_type": "code",
   "execution_count": 30,
   "id": "f94c7dae",
   "metadata": {},
   "outputs": [
    {
     "data": {
      "text/plain": [
       "88"
      ]
     },
     "execution_count": 30,
     "metadata": {},
     "output_type": "execute_result"
    }
   ],
   "source": [
    "11 << 3  # 01011000"
   ]
  },
  {
   "cell_type": "code",
   "execution_count": 31,
   "id": "2e3af273",
   "metadata": {},
   "outputs": [
    {
     "data": {
      "text/plain": [
       "1"
      ]
     },
     "execution_count": 31,
     "metadata": {},
     "output_type": "execute_result"
    }
   ],
   "source": [
    "# right shift\n",
    "\n",
    "7 >> 2    # 00000001"
   ]
  },
  {
   "cell_type": "code",
   "execution_count": null,
   "id": "56ee1e12",
   "metadata": {},
   "outputs": [],
   "source": []
  }
 ],
 "metadata": {
  "kernelspec": {
   "display_name": "Python 3",
   "language": "python",
   "name": "python3"
  },
  "language_info": {
   "codemirror_mode": {
    "name": "ipython",
    "version": 3
   },
   "file_extension": ".py",
   "mimetype": "text/x-python",
   "name": "python",
   "nbconvert_exporter": "python",
   "pygments_lexer": "ipython3",
   "version": "3.8.10"
  }
 },
 "nbformat": 4,
 "nbformat_minor": 5
}
