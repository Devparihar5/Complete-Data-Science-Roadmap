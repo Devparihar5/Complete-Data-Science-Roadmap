{
 "cells": [
  {
   "cell_type": "markdown",
   "id": "1390d8e7",
   "metadata": {},
   "source": [
    "# While Loop"
   ]
  },
  {
   "cell_type": "code",
   "execution_count": 1,
   "id": "47be358a",
   "metadata": {},
   "outputs": [
    {
     "name": "stdout",
     "output_type": "stream",
     "text": [
      "Himanshu\n",
      "Himanshu\n",
      "Himanshu\n",
      "Himanshu\n",
      "Himanshu\n",
      "Himanshu\n",
      "Himanshu\n",
      "Himanshu\n",
      "Himanshu\n",
      "Himanshu\n"
     ]
    }
   ],
   "source": [
    "i = 1\n",
    "\n",
    "while i <= 10:\n",
    "    print(\"Himanshu\")\n",
    "    i += 1            # i = i + 1"
   ]
  },
  {
   "cell_type": "code",
   "execution_count": null,
   "id": "69e2c751",
   "metadata": {},
   "outputs": [],
   "source": [
    "1\n",
    "2\n",
    "3\n",
    "4\n",
    "5\n",
    "6\n",
    "7\n",
    "8\n",
    "9\n",
    "10"
   ]
  },
  {
   "cell_type": "code",
   "execution_count": 2,
   "id": "effba3db",
   "metadata": {},
   "outputs": [
    {
     "name": "stdout",
     "output_type": "stream",
     "text": [
      "1\n",
      "2\n",
      "3\n",
      "4\n",
      "5\n",
      "6\n",
      "7\n",
      "8\n",
      "9\n",
      "10\n"
     ]
    }
   ],
   "source": [
    "i = 1\n",
    "\n",
    "while i <= 10:\n",
    "    print(i)\n",
    "    i += 1"
   ]
  },
  {
   "cell_type": "code",
   "execution_count": 3,
   "id": "aea64c66",
   "metadata": {},
   "outputs": [
    {
     "name": "stdout",
     "output_type": "stream",
     "text": [
      "Hello\n",
      "World\n"
     ]
    }
   ],
   "source": [
    "print(\"Hello\\nWorld\")"
   ]
  },
  {
   "cell_type": "code",
   "execution_count": 4,
   "id": "a6aa69c7",
   "metadata": {},
   "outputs": [
    {
     "name": "stdout",
     "output_type": "stream",
     "text": [
      "Hello\n",
      "World\n"
     ]
    }
   ],
   "source": [
    "print(\"Hello\")\n",
    "print(\"World\")"
   ]
  },
  {
   "cell_type": "code",
   "execution_count": 5,
   "id": "60c30eb6",
   "metadata": {},
   "outputs": [
    {
     "name": "stdout",
     "output_type": "stream",
     "text": [
      "HelloWorld\n"
     ]
    }
   ],
   "source": [
    "print(\"Hello\", end=\"\")\n",
    "print(\"World\")"
   ]
  },
  {
   "cell_type": "code",
   "execution_count": 6,
   "id": "4cf73726",
   "metadata": {},
   "outputs": [
    {
     "data": {
      "text/plain": [
       "'10abc'"
      ]
     },
     "execution_count": 6,
     "metadata": {},
     "output_type": "execute_result"
    }
   ],
   "source": [
    "\"10\" + \"abc\""
   ]
  },
  {
   "cell_type": "code",
   "execution_count": 7,
   "id": "fde5dd78",
   "metadata": {},
   "outputs": [
    {
     "name": "stdout",
     "output_type": "stream",
     "text": [
      "Hello@@World\n"
     ]
    }
   ],
   "source": [
    "print(\"Hello\", end=\"@@\")\n",
    "print(\"World\")"
   ]
  },
  {
   "cell_type": "code",
   "execution_count": 8,
   "id": "170cb0be",
   "metadata": {},
   "outputs": [
    {
     "name": "stdout",
     "output_type": "stream",
     "text": [
      "Hello\n",
      "World\n"
     ]
    }
   ],
   "source": [
    "print(\"Hello\", end=\"\\n\")\n",
    "print(\"World\")"
   ]
  },
  {
   "cell_type": "code",
   "execution_count": 9,
   "id": "f3ddee25",
   "metadata": {},
   "outputs": [
    {
     "name": "stdout",
     "output_type": "stream",
     "text": [
      "Hello World\n"
     ]
    }
   ],
   "source": [
    "print(\"Hello\", end=\" \")\n",
    "print(\"World\")"
   ]
  },
  {
   "cell_type": "code",
   "execution_count": null,
   "id": "94861374",
   "metadata": {},
   "outputs": [],
   "source": [
    "1  2  3  4  5  6  7  8  9  10"
   ]
  },
  {
   "cell_type": "code",
   "execution_count": 10,
   "id": "e60390b0",
   "metadata": {},
   "outputs": [
    {
     "name": "stdout",
     "output_type": "stream",
     "text": [
      "1  2  3  4  5  6  7  8  9  10  "
     ]
    }
   ],
   "source": [
    "i = 1\n",
    "\n",
    "while i <= 10:\n",
    "    print(i, end=\"  \")\n",
    "    i += 1"
   ]
  },
  {
   "cell_type": "code",
   "execution_count": 11,
   "id": "7b41c6cf",
   "metadata": {},
   "outputs": [
    {
     "name": "stdout",
     "output_type": "stream",
     "text": [
      "50\n",
      "10\n"
     ]
    }
   ],
   "source": [
    "a = 10\n",
    "print(a * 5)\n",
    "print(a)"
   ]
  },
  {
   "cell_type": "markdown",
   "id": "03a2340b",
   "metadata": {},
   "source": [
    "**WAP to print following output.**"
   ]
  },
  {
   "cell_type": "code",
   "execution_count": null,
   "id": "6eb2610d",
   "metadata": {},
   "outputs": [],
   "source": [
    "1  4  9  16  25  36  49  64  81  100"
   ]
  },
  {
   "cell_type": "code",
   "execution_count": 12,
   "id": "b2efbbe0",
   "metadata": {},
   "outputs": [
    {
     "name": "stdout",
     "output_type": "stream",
     "text": [
      "1  4  9  16  25  36  49  64  81  100  "
     ]
    }
   ],
   "source": [
    "i = 1\n",
    "\n",
    "while i<=10:\n",
    "    print(i*i, end=\"  \")\n",
    "    i += 1"
   ]
  },
  {
   "cell_type": "code",
   "execution_count": null,
   "id": "8102ded6",
   "metadata": {},
   "outputs": [],
   "source": [
    "1+2+3+4+5+6+7+8+9+10"
   ]
  },
  {
   "cell_type": "code",
   "execution_count": 13,
   "id": "96e6e45d",
   "metadata": {},
   "outputs": [
    {
     "name": "stdout",
     "output_type": "stream",
     "text": [
      "1+2+3+4+5+6+7+8+9+10+"
     ]
    }
   ],
   "source": [
    "i = 1\n",
    "\n",
    "while i<=10:\n",
    "    print(i, end=\"+\")\n",
    "    i += 1"
   ]
  },
  {
   "cell_type": "code",
   "execution_count": 14,
   "id": "86822792",
   "metadata": {},
   "outputs": [
    {
     "name": "stdout",
     "output_type": "stream",
     "text": [
      "1+2+3+4+5+6+7+8+9+10\n"
     ]
    }
   ],
   "source": [
    "i = 1\n",
    "\n",
    "while i<=10:\n",
    "    if i < 10:\n",
    "        print(i, end=\"+\")\n",
    "    else:\n",
    "        print(i)\n",
    "    i += 1"
   ]
  },
  {
   "cell_type": "code",
   "execution_count": null,
   "id": "63fc80f1",
   "metadata": {},
   "outputs": [],
   "source": [
    "1/1  2/4  3/9  4/16  5/25  6/36  7/49  8/64  9/81  10/100"
   ]
  },
  {
   "cell_type": "code",
   "execution_count": null,
   "id": "b4184bc3",
   "metadata": {},
   "outputs": [],
   "source": []
  },
  {
   "cell_type": "markdown",
   "id": "f36c748e",
   "metadata": {},
   "source": [
    "# break statement"
   ]
  },
  {
   "cell_type": "code",
   "execution_count": 15,
   "id": "dd121e7a",
   "metadata": {},
   "outputs": [
    {
     "name": "stdout",
     "output_type": "stream",
     "text": [
      "1\n",
      "2\n",
      "3\n",
      "4\n",
      "Hi\n"
     ]
    }
   ],
   "source": [
    "i = 1\n",
    "\n",
    "while i <= 10:\n",
    "    if i == 5:\n",
    "        print(\"Hi\")\n",
    "        break\n",
    "    print(i)\n",
    "    i += 1\n"
   ]
  },
  {
   "cell_type": "markdown",
   "id": "91bf977d",
   "metadata": {},
   "source": [
    "# continue statement"
   ]
  },
  {
   "cell_type": "code",
   "execution_count": 16,
   "id": "c3c02404",
   "metadata": {},
   "outputs": [
    {
     "name": "stdout",
     "output_type": "stream",
     "text": [
      "1\n",
      "3\n",
      "5\n",
      "7\n",
      "9\n",
      "11\n"
     ]
    }
   ],
   "source": [
    "i = 0\n",
    "\n",
    "while i<=10:\n",
    "    i += 1\n",
    "    if i%2 == 0:\n",
    "        continue\n",
    "    else:\n",
    "        print(i)      # 1  3 "
   ]
  },
  {
   "cell_type": "markdown",
   "id": "72d2b6ee",
   "metadata": {},
   "source": [
    "**WAP to enter 5 numbers from user and print them.**"
   ]
  },
  {
   "cell_type": "code",
   "execution_count": 17,
   "id": "98e78868",
   "metadata": {},
   "outputs": [
    {
     "name": "stdout",
     "output_type": "stream",
     "text": [
      "Enter a number: 10\n",
      "Your Number is: 10\n",
      "Enter a number: 20\n",
      "Your Number is: 20\n",
      "Enter a number: 30\n",
      "Your Number is: 30\n",
      "Enter a number: 40\n",
      "Your Number is: 40\n",
      "Enter a number: 50\n",
      "Your Number is: 50\n"
     ]
    }
   ],
   "source": [
    "i = 1\n",
    "\n",
    "while i<=5:\n",
    "    a = int(input(\"Enter a number: \"))\n",
    "    print(\"Your Number is:\", a)\n",
    "    i += 1"
   ]
  },
  {
   "cell_type": "markdown",
   "id": "eeec4b71",
   "metadata": {},
   "source": [
    "**WAP to enter 5 numbers from user and print sum of them.**"
   ]
  },
  {
   "cell_type": "code",
   "execution_count": null,
   "id": "2f507148",
   "metadata": {},
   "outputs": [],
   "source": [
    "0 + 10 + 20 + 30\n",
    "s"
   ]
  },
  {
   "cell_type": "code",
   "execution_count": 1,
   "id": "7d797775",
   "metadata": {},
   "outputs": [
    {
     "name": "stdout",
     "output_type": "stream",
     "text": [
      "Enter a number: 10\n",
      "Enter a number: 20\n",
      "Enter a number: 30\n",
      "Enter a number: 40\n",
      "Enter a number: 50\n",
      "Sum = 150\n"
     ]
    }
   ],
   "source": [
    "i = 1\n",
    "s = 0\n",
    "\n",
    "while i <= 5:\n",
    "    a = int(input(\"Enter a number: \"))\n",
    "    s = s + a     # 0, 10, 30, 60, 100, 150\n",
    "    i += 1\n",
    "\n",
    "print(\"Sum =\", s)"
   ]
  },
  {
   "cell_type": "markdown",
   "id": "8bfd208a",
   "metadata": {},
   "source": [
    "**WAP to enter a number from user and print reverse of it.**\n",
    "\n",
    "153\n",
    "\n",
    "351"
   ]
  },
  {
   "cell_type": "code",
   "execution_count": null,
   "id": "2667c20c",
   "metadata": {},
   "outputs": [],
   "source": [
    "153 %  10 - 3\n",
    "153 // 10 - 15\n",
    "\n",
    "15 %  10 - 5\n",
    "15 // 10 - 1\n",
    "\n",
    "1  % 10 - 1\n",
    "1  // 10 - 0"
   ]
  },
  {
   "cell_type": "code",
   "execution_count": 10,
   "id": "dad0c8eb",
   "metadata": {},
   "outputs": [
    {
     "name": "stdout",
     "output_type": "stream",
     "text": [
      "Enter a number: 153\n",
      "351"
     ]
    }
   ],
   "source": [
    "n = int(input(\"Enter a number: \"))\n",
    "\n",
    "while n > 0:               # n = 153, 15, 1\n",
    "    r = n % 10             # r = 3, 5, 1\n",
    "    print(r, end=\"\")       # 351\n",
    "    n = n // 10            # n = 15, 1, 0"
   ]
  },
  {
   "cell_type": "markdown",
   "id": "0547b459",
   "metadata": {},
   "source": [
    "**WAP to enter number from user and print sum of its individual digits**\n",
    "\n",
    "153\n",
    "\n",
    "1 + 5 + 3\n",
    "\n",
    "9"
   ]
  },
  {
   "cell_type": "code",
   "execution_count": 4,
   "id": "6de6b036",
   "metadata": {},
   "outputs": [
    {
     "name": "stdout",
     "output_type": "stream",
     "text": [
      "Enter a number: 153\n",
      "Sum = 9\n"
     ]
    }
   ],
   "source": [
    "n = int(input(\"Enter a number: \"))\n",
    "s = 0\n",
    "\n",
    "while n > 0:               # n = 153, 15, 1\n",
    "    r = n % 10             # r = 3, 5, 1\n",
    "    s = s + r              # s = 0, 3, 8, 9\n",
    "    n = n // 10            # n = 15, 1, 0\n",
    "\n",
    "print(\"Sum =\", s)"
   ]
  },
  {
   "cell_type": "markdown",
   "id": "76565637",
   "metadata": {},
   "source": [
    "### Reverse of a number"
   ]
  },
  {
   "cell_type": "code",
   "execution_count": 13,
   "id": "6ff76358",
   "metadata": {},
   "outputs": [
    {
     "name": "stdout",
     "output_type": "stream",
     "text": [
      "Enter a number: 153\n",
      "Reverse = 351\n"
     ]
    }
   ],
   "source": [
    "n = int(input(\"Enter a number: \"))\n",
    "s = 0\n",
    "\n",
    "while n > 0:               # n = 153, 15, 1\n",
    "    r = n % 10             # r = 3, 5, 1\n",
    "    s = s * 10 + r         # s = 0, 3, 35, 351\n",
    "    n = n // 10            # n = 15, 1, 0\n",
    "\n",
    "print(\"Reverse =\", s)"
   ]
  },
  {
   "cell_type": "markdown",
   "id": "5796e907",
   "metadata": {},
   "source": [
    "**WAP to enter a number from user and check if it is palindrome or not**\n",
    "\n",
    "153  -  351\n",
    "\n",
    "121  -  121"
   ]
  },
  {
   "cell_type": "code",
   "execution_count": 18,
   "id": "ca176cda",
   "metadata": {},
   "outputs": [
    {
     "name": "stdout",
     "output_type": "stream",
     "text": [
      "Enter a number: 153\n",
      "Non Palindrome\n"
     ]
    }
   ],
   "source": [
    "n = int(input(\"Enter a number: \"))\n",
    "temp = n\n",
    "s = 0\n",
    "\n",
    "while n > 0:               # n = 153, 15, 1\n",
    "    r = n % 10             # r = 3, 5, 1\n",
    "    s = s * 10 + r         # s = 0, 3, 35, 351\n",
    "    n = n // 10            # n = 15, 1, 0\n",
    "\n",
    "if s == temp:\n",
    "    print(\"Palindrome\")\n",
    "else:\n",
    "    print(\"Non Palindrome\")"
   ]
  },
  {
   "cell_type": "markdown",
   "id": "2d9cdd28",
   "metadata": {},
   "source": [
    "**WAP to enter a number from user and check if it armstrong or not.**\n",
    "\n",
    "153 - cube(1) + cube(5)  + cube(3) - 153\n",
    "\n",
    "370 - 27 + 343 + 0 - 370\n",
    "\n",
    "371"
   ]
  },
  {
   "cell_type": "code",
   "execution_count": 20,
   "id": "436b5f84",
   "metadata": {},
   "outputs": [
    {
     "name": "stdout",
     "output_type": "stream",
     "text": [
      "Enter a number: 123\n",
      "Non Armstrong\n"
     ]
    }
   ],
   "source": [
    "n = int(input(\"Enter a number: \"))\n",
    "temp = n\n",
    "s = 0\n",
    "\n",
    "while n > 0:               # n = 153\n",
    "    r = n % 10             # r = 3, 5, 1\n",
    "    s = s + r*r*r          # s = 0, 27, 152, 153\n",
    "    n = n // 10            # n = 15, 1\n",
    "\n",
    "if s == temp:\n",
    "    print(\"Armstrong\")\n",
    "else:\n",
    "    print(\"Non Armstrong\")"
   ]
  },
  {
   "cell_type": "markdown",
   "id": "618f3019",
   "metadata": {},
   "source": [
    "**WAP to enter a number from user and print its individual digits on seperate line.**\n",
    "\n",
    "153\n",
    "\n",
    "1\n",
    "\n",
    "5\n",
    "\n",
    "3"
   ]
  },
  {
   "cell_type": "code",
   "execution_count": null,
   "id": "21a0ad49",
   "metadata": {},
   "outputs": [],
   "source": []
  }
 ],
 "metadata": {
  "kernelspec": {
   "display_name": "Python 3",
   "language": "python",
   "name": "python3"
  },
  "language_info": {
   "codemirror_mode": {
    "name": "ipython",
    "version": 3
   },
   "file_extension": ".py",
   "mimetype": "text/x-python",
   "name": "python",
   "nbconvert_exporter": "python",
   "pygments_lexer": "ipython3",
   "version": "3.8.10"
  }
 },
 "nbformat": 4,
 "nbformat_minor": 5
}
