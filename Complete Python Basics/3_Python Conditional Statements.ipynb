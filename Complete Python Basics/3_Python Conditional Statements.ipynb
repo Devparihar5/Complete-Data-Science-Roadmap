{
 "cells": [
  {
   "cell_type": "markdown",
   "id": "207eaf33",
   "metadata": {},
   "source": [
    "# Conditional Statements"
   ]
  },
  {
   "cell_type": "code",
   "execution_count": null,
   "id": "c8b7f7ef",
   "metadata": {},
   "outputs": [],
   "source": [
    "if ()\n",
    "{\n",
    "    \n",
    "}"
   ]
  },
  {
   "cell_type": "code",
   "execution_count": 1,
   "id": "f1f13e87",
   "metadata": {},
   "outputs": [
    {
     "name": "stdout",
     "output_type": "stream",
     "text": [
      "Hello\n",
      "Hi\n"
     ]
    }
   ],
   "source": [
    "if True:\n",
    "    print(\"Hello\")\n",
    "    print(\"Hi\")"
   ]
  },
  {
   "cell_type": "code",
   "execution_count": 2,
   "id": "115a3f30",
   "metadata": {},
   "outputs": [],
   "source": [
    "if False:\n",
    "    print(\"Hello\")\n",
    "    print(\"Hi\")"
   ]
  },
  {
   "cell_type": "code",
   "execution_count": 3,
   "id": "218a8f63",
   "metadata": {},
   "outputs": [
    {
     "name": "stdout",
     "output_type": "stream",
     "text": [
      "One\n"
     ]
    }
   ],
   "source": [
    "if 10 == 10:\n",
    "    print(\"One\")"
   ]
  },
  {
   "cell_type": "code",
   "execution_count": 4,
   "id": "ab6ae09b",
   "metadata": {},
   "outputs": [
    {
     "name": "stdout",
     "output_type": "stream",
     "text": [
      "1\n"
     ]
    }
   ],
   "source": [
    "if 10 > 5:\n",
    "    print(1)"
   ]
  },
  {
   "cell_type": "code",
   "execution_count": 5,
   "id": "0eb0252f",
   "metadata": {},
   "outputs": [
    {
     "name": "stdout",
     "output_type": "stream",
     "text": [
      "1\n"
     ]
    }
   ],
   "source": [
    "if 10 > 5:\n",
    "    print(1)\n",
    "else:\n",
    "    print(2)"
   ]
  },
  {
   "cell_type": "code",
   "execution_count": 6,
   "id": "7f046a83",
   "metadata": {},
   "outputs": [
    {
     "name": "stdout",
     "output_type": "stream",
     "text": [
      "2\n"
     ]
    }
   ],
   "source": [
    "if 10 > 15:\n",
    "    print(1)\n",
    "else:\n",
    "    print(2)"
   ]
  },
  {
   "cell_type": "code",
   "execution_count": 7,
   "id": "c9635dae",
   "metadata": {},
   "outputs": [
    {
     "name": "stdout",
     "output_type": "stream",
     "text": [
      "Hi\n"
     ]
    }
   ],
   "source": [
    "a = \"left\"\n",
    "\n",
    "if a == \"left\":\n",
    "    print(\"Hi\")\n",
    "else:\n",
    "    print(\"Bye\")"
   ]
  },
  {
   "cell_type": "code",
   "execution_count": 8,
   "id": "28d2908f",
   "metadata": {},
   "outputs": [
    {
     "name": "stdout",
     "output_type": "stream",
     "text": [
      "B\n"
     ]
    }
   ],
   "source": [
    "if 8 > 9:\n",
    "    print(\"A\")\n",
    "elif 8 < 9:\n",
    "    print(\"B\")\n",
    "else:\n",
    "    print(\"C\")"
   ]
  },
  {
   "cell_type": "code",
   "execution_count": 9,
   "id": "d1f9f5bd",
   "metadata": {},
   "outputs": [
    {
     "name": "stdout",
     "output_type": "stream",
     "text": [
      "A\n"
     ]
    }
   ],
   "source": [
    "if 81 > 9:\n",
    "    print(\"A\")\n",
    "elif 8 < 19:\n",
    "    print(\"B\")\n",
    "else:\n",
    "    print(\"C\")"
   ]
  },
  {
   "cell_type": "code",
   "execution_count": 10,
   "id": "02af250e",
   "metadata": {},
   "outputs": [
    {
     "name": "stdout",
     "output_type": "stream",
     "text": [
      "B\n"
     ]
    }
   ],
   "source": [
    "if 8 > 9:\n",
    "    print(\"A\")\n",
    "elif 8 < 19:\n",
    "    print(\"B\")\n",
    "elif 10 == 10:\n",
    "    print(\"C\")"
   ]
  },
  {
   "cell_type": "code",
   "execution_count": 11,
   "id": "3d7a8245",
   "metadata": {},
   "outputs": [
    {
     "ename": "SyntaxError",
     "evalue": "invalid syntax (<ipython-input-11-542920865bcc>, line 1)",
     "output_type": "error",
     "traceback": [
      "\u001b[1;36m  File \u001b[1;32m\"<ipython-input-11-542920865bcc>\"\u001b[1;36m, line \u001b[1;32m1\u001b[0m\n\u001b[1;33m    else:\u001b[0m\n\u001b[1;37m    ^\u001b[0m\n\u001b[1;31mSyntaxError\u001b[0m\u001b[1;31m:\u001b[0m invalid syntax\n"
     ]
    }
   ],
   "source": [
    "else:\n",
    "    print(\"ABC\")"
   ]
  },
  {
   "cell_type": "code",
   "execution_count": 12,
   "id": "70327c61",
   "metadata": {},
   "outputs": [
    {
     "ename": "SyntaxError",
     "evalue": "invalid syntax (<ipython-input-12-149eef2e19f5>, line 1)",
     "output_type": "error",
     "traceback": [
      "\u001b[1;36m  File \u001b[1;32m\"<ipython-input-12-149eef2e19f5>\"\u001b[1;36m, line \u001b[1;32m1\u001b[0m\n\u001b[1;33m    elif 10 == 10:\u001b[0m\n\u001b[1;37m    ^\u001b[0m\n\u001b[1;31mSyntaxError\u001b[0m\u001b[1;31m:\u001b[0m invalid syntax\n"
     ]
    }
   ],
   "source": [
    "elif 10 == 10:\n",
    "    print(\"Z\")"
   ]
  },
  {
   "cell_type": "markdown",
   "id": "03e77598",
   "metadata": {},
   "source": [
    "# Nested If Else"
   ]
  },
  {
   "cell_type": "code",
   "execution_count": 13,
   "id": "2f2b4938",
   "metadata": {},
   "outputs": [
    {
     "name": "stdout",
     "output_type": "stream",
     "text": [
      "A\n",
      "B\n"
     ]
    }
   ],
   "source": [
    "if 10 == 10:\n",
    "    print(\"A\")\n",
    "    if 1 == 1:\n",
    "        print(\"B\")\n",
    "    else:\n",
    "        print(\"C\")\n",
    "else:\n",
    "    print(\"D\")"
   ]
  },
  {
   "cell_type": "code",
   "execution_count": 14,
   "id": "850e6798",
   "metadata": {},
   "outputs": [
    {
     "name": "stdout",
     "output_type": "stream",
     "text": [
      "ELSE\n"
     ]
    }
   ],
   "source": [
    "if 1+1 == 2:\n",
    "    if 2*2 == 8:\n",
    "        print(\"IF\")\n",
    "    else:\n",
    "        print(\"ELSE\")\n",
    "else:\n",
    "    print(\"A\")"
   ]
  },
  {
   "cell_type": "code",
   "execution_count": 18,
   "id": "dd2b2e20",
   "metadata": {},
   "outputs": [
    {
     "name": "stdout",
     "output_type": "stream",
     "text": [
      "Enter a Number: 0\n",
      "A\n",
      "G\n"
     ]
    }
   ],
   "source": [
    "n = int(input(\"Enter a Number: \"))   # 10, 1, 5, 0\n",
    "\n",
    "if n <= 5:\n",
    "    print(\"A\")\n",
    "    if n == 3:\n",
    "        print(\"B\")\n",
    "    elif n == 4:\n",
    "        print(\"C\")\n",
    "    else:\n",
    "        if n == 5:\n",
    "            print(\"F\")\n",
    "        else:\n",
    "            print(\"G\")\n",
    "else:\n",
    "    if n == 7:\n",
    "        print(\"D\")\n",
    "    else:\n",
    "        print(\"E\")"
   ]
  },
  {
   "cell_type": "markdown",
   "id": "2bf9413c",
   "metadata": {},
   "source": [
    "# Ternary Statements"
   ]
  },
  {
   "cell_type": "code",
   "execution_count": null,
   "id": "8e13993c",
   "metadata": {},
   "outputs": [],
   "source": [
    "?  :  "
   ]
  },
  {
   "cell_type": "code",
   "execution_count": 19,
   "id": "54304795",
   "metadata": {},
   "outputs": [
    {
     "name": "stdout",
     "output_type": "stream",
     "text": [
      "1\n"
     ]
    }
   ],
   "source": [
    "a = 7\n",
    "b = 1 if a>=5 else 45\n",
    "print(b)"
   ]
  },
  {
   "cell_type": "code",
   "execution_count": 20,
   "id": "479795e9",
   "metadata": {},
   "outputs": [
    {
     "name": "stdout",
     "output_type": "stream",
     "text": [
      "45\n"
     ]
    }
   ],
   "source": [
    "a = 2\n",
    "b = 1 if a>=5 else 45\n",
    "print(b)"
   ]
  },
  {
   "cell_type": "code",
   "execution_count": 21,
   "id": "6c80d8e6",
   "metadata": {},
   "outputs": [
    {
     "name": "stdout",
     "output_type": "stream",
     "text": [
      "Login\n"
     ]
    }
   ],
   "source": [
    "status = 1\n",
    "\n",
    "msg = \"Login\" if status == 1 else \"Logout\"\n",
    "\n",
    "print(msg)"
   ]
  },
  {
   "cell_type": "markdown",
   "id": "73aaa8af",
   "metadata": {},
   "source": [
    "# Questions\n",
    "\n",
    "**1. WAP to enter a number from user and check it is greater than 10 or not.**"
   ]
  },
  {
   "cell_type": "code",
   "execution_count": 25,
   "id": "08cff3cf",
   "metadata": {},
   "outputs": [
    {
     "name": "stdout",
     "output_type": "stream",
     "text": [
      "Enter a Number: 2\n",
      "Smaller\n"
     ]
    }
   ],
   "source": [
    "n = int(input(\"Enter a Number: \"))\n",
    "if n > 10:\n",
    "    print(\"Greater\")\n",
    "elif n == 10:\n",
    "    print(\"Equal\")\n",
    "else:\n",
    "    print(\"Smaller\")"
   ]
  },
  {
   "cell_type": "markdown",
   "id": "939b01b1",
   "metadata": {},
   "source": [
    "**2. WAP to enter a number from user and check if it is even or odd.**"
   ]
  },
  {
   "cell_type": "code",
   "execution_count": 27,
   "id": "ec6be812",
   "metadata": {},
   "outputs": [
    {
     "name": "stdout",
     "output_type": "stream",
     "text": [
      "Enter a Number: 10\n",
      "Even\n"
     ]
    }
   ],
   "source": [
    "n = int(input(\"Enter a Number: \"))\n",
    "\n",
    "if n%2 == 0:\n",
    "    print(\"Even\")\n",
    "else:\n",
    "    print(\"Odd\")"
   ]
  },
  {
   "cell_type": "markdown",
   "id": "1552f1a8",
   "metadata": {},
   "source": [
    "**3. WAP to enter a number from user between 1 to 5 and print its character format.**\n",
    "\n",
    "1 -- One\n",
    "\n",
    "2 -- Two"
   ]
  },
  {
   "cell_type": "code",
   "execution_count": 29,
   "id": "0bc7ae26",
   "metadata": {},
   "outputs": [
    {
     "name": "stdout",
     "output_type": "stream",
     "text": [
      "Enter a Number: 5\n",
      "Five\n"
     ]
    }
   ],
   "source": [
    "n = int(input(\"Enter a Number: \"))\n",
    "\n",
    "if n == 1:\n",
    "    print(\"One\")\n",
    "elif n == 2:\n",
    "    print(\"Two\")\n",
    "elif n == 3:\n",
    "    print(\"Three\")\n",
    "elif n == 4:\n",
    "    print(\"Four\")\n",
    "elif n == 5:\n",
    "    print(\"Five\")\n",
    "else:\n",
    "    print(\"Invalid Input\")"
   ]
  },
  {
   "cell_type": "markdown",
   "id": "b963c88e",
   "metadata": {},
   "source": [
    "**4. WAP to enter a character from user and check if it is vowel or consonant**"
   ]
  },
  {
   "cell_type": "code",
   "execution_count": 32,
   "id": "91365da7",
   "metadata": {},
   "outputs": [
    {
     "name": "stdout",
     "output_type": "stream",
     "text": [
      "Enter a Number: u\n",
      "Vowel\n"
     ]
    }
   ],
   "source": [
    "n = input(\"Enter a Number: \")\n",
    "\n",
    "if n == 'a':\n",
    "    print(\"Vowel\")\n",
    "elif n == 'e':\n",
    "    print(\"Vowel\")\n",
    "elif n == 'i':\n",
    "    print(\"Vowel\")\n",
    "elif n == 'o':\n",
    "    print(\"Vowel\")\n",
    "elif n == 'u':\n",
    "    print(\"Vowel\")\n",
    "else:\n",
    "    print(\"Consonant\")"
   ]
  },
  {
   "cell_type": "code",
   "execution_count": 4,
   "id": "bf14bec7",
   "metadata": {},
   "outputs": [
    {
     "name": "stdout",
     "output_type": "stream",
     "text": [
      "Enter a Number: b\n",
      "Consonant\n"
     ]
    }
   ],
   "source": [
    "n = input(\"Enter a Number: \")\n",
    "\n",
    "if n == 'a' or n == 'e' or n == 'i' or n == 'o' or n == 'u':\n",
    "    print(\"Vowel\")\n",
    "else:\n",
    "    print(\"Consonant\")"
   ]
  },
  {
   "cell_type": "markdown",
   "id": "60900d78",
   "metadata": {},
   "source": [
    "**5. WAP to take 2 values from user and print greater value.**"
   ]
  },
  {
   "cell_type": "code",
   "execution_count": 5,
   "id": "629a16ce",
   "metadata": {},
   "outputs": [
    {
     "name": "stdout",
     "output_type": "stream",
     "text": [
      "Enter a value10\n",
      "Enter a value20\n",
      "Greater is 20\n"
     ]
    }
   ],
   "source": [
    "a = int(input(\"Enter a value\"))\n",
    "b = int(input(\"Enter a value\"))\n",
    "\n",
    "if a >= b:\n",
    "    print(\"Greater is\", a)\n",
    "else:\n",
    "    print(\"Greater is\", b)"
   ]
  },
  {
   "cell_type": "markdown",
   "id": "3ddc6a6e",
   "metadata": {},
   "source": [
    "**6. WAP to enter a number from user and print its absolute value.**\n",
    "\n",
    "**7. WAP to enter a year from user and check if it is leap year of not.**\n",
    "\n",
    "**8. WAP to enter the age of 3 person and print oldest and yougest among them.**"
   ]
  },
  {
   "cell_type": "code",
   "execution_count": null,
   "id": "bc522994",
   "metadata": {},
   "outputs": [],
   "source": [
    "-2 -1 0 1 2 \n",
    "\n",
    "| -2 |   ->  2"
   ]
  }
 ],
 "metadata": {
  "kernelspec": {
   "display_name": "Python 3",
   "language": "python",
   "name": "python3"
  },
  "language_info": {
   "codemirror_mode": {
    "name": "ipython",
    "version": 3
   },
   "file_extension": ".py",
   "mimetype": "text/x-python",
   "name": "python",
   "nbconvert_exporter": "python",
   "pygments_lexer": "ipython3",
   "version": "3.8.10"
  }
 },
 "nbformat": 4,
 "nbformat_minor": 5
}
