{
 "cells": [
  {
   "cell_type": "markdown",
   "id": "f7f4e8c4",
   "metadata": {},
   "source": [
    "# Object Orientated Programming"
   ]
  },
  {
   "cell_type": "markdown",
   "id": "e4ad2708",
   "metadata": {},
   "source": [
    "7 properties of OOPs\n",
    "\n",
    "1. Class\n",
    "            Updated version of structure\n",
    "            Collection of variables and methods.\n",
    "            Class is a blueprint.\n",
    "\n",
    "2. Object\n",
    "            Run time or real time entity.\n",
    "            hash code - id\n",
    "           \n",
    "3. Abstraction and Encapsulation\n",
    "            Abstraction - Showing only essential features without showing any background details.\n",
    "            Encapsulation - wrapping up of data in a single unit.\n",
    "\n",
    "4. Inheritance\n",
    "            Acquiring Properties of one class into another.\n",
    "            Code reuse.\n",
    "            - Single Level\n",
    "            - Multi Level\n",
    "            - Hierarchical\n",
    "            - Multiple\n",
    "            - Hybrid\n",
    "\n",
    "5. Polymorphism\n",
    "            same name multiple fuctionalities.\n",
    "            - Method Overloading\n",
    "            - Method Overriding\n",
    "            add()\n",
    "            add(x,y)\n",
    "            add(a,b,c)\n",
    "            add()\n",
    "\n",
    "6. Dynamic Memory Allocation\n",
    "            Run time memory allocation\n",
    "           \n",
    "           \n",
    "7. Message passing\n",
    "            Communication between objects"
   ]
  },
  {
   "cell_type": "code",
   "execution_count": null,
   "id": "d29fcaf6",
   "metadata": {},
   "outputs": [],
   "source": [
    "int a = 10;\n",
    "\n",
    "struct student{\n",
    "    int a;\n",
    "    float p;\n",
    "    char f;\n",
    "}\n",
    "\n",
    "struct student s1;\n",
    "           int a;"
   ]
  },
  {
   "cell_type": "code",
   "execution_count": 1,
   "id": "0b19b42b",
   "metadata": {},
   "outputs": [],
   "source": [
    "class Cricket:\n",
    "    \n",
    "    def bat():\n",
    "        print(\"Batting\")\n"
   ]
  },
  {
   "cell_type": "code",
   "execution_count": 2,
   "id": "060506e6",
   "metadata": {},
   "outputs": [
    {
     "ename": "NameError",
     "evalue": "name 'bat' is not defined",
     "output_type": "error",
     "traceback": [
      "\u001b[1;31m---------------------------------------------------------------------------\u001b[0m",
      "\u001b[1;31mNameError\u001b[0m                                 Traceback (most recent call last)",
      "\u001b[1;32m<ipython-input-2-7004d47d541c>\u001b[0m in \u001b[0;36m<module>\u001b[1;34m\u001b[0m\n\u001b[1;32m----> 1\u001b[1;33m \u001b[0mbat\u001b[0m\u001b[1;33m(\u001b[0m\u001b[1;33m)\u001b[0m\u001b[1;33m\u001b[0m\u001b[1;33m\u001b[0m\u001b[0m\n\u001b[0m",
      "\u001b[1;31mNameError\u001b[0m: name 'bat' is not defined"
     ]
    }
   ],
   "source": [
    "bat()"
   ]
  },
  {
   "cell_type": "code",
   "execution_count": null,
   "id": "a9c9d4c4",
   "metadata": {},
   "outputs": [],
   "source": [
    "# self ---> current object"
   ]
  },
  {
   "cell_type": "code",
   "execution_count": 5,
   "id": "d0bd3233",
   "metadata": {},
   "outputs": [],
   "source": [
    "class Cricket:\n",
    "    \n",
    "    def bat(self):\n",
    "        print(\"Batting\")\n",
    "\n",
    "x = Cricket()"
   ]
  },
  {
   "cell_type": "code",
   "execution_count": 6,
   "id": "5053586c",
   "metadata": {},
   "outputs": [
    {
     "name": "stdout",
     "output_type": "stream",
     "text": [
      "Batting\n"
     ]
    }
   ],
   "source": [
    "x.bat()"
   ]
  },
  {
   "cell_type": "code",
   "execution_count": 7,
   "id": "682cc8f4",
   "metadata": {},
   "outputs": [
    {
     "name": "stdout",
     "output_type": "stream",
     "text": [
      "<__main__.Cricket object at 0x000002631117DA60>\n"
     ]
    }
   ],
   "source": [
    "print(x)"
   ]
  },
  {
   "cell_type": "code",
   "execution_count": 8,
   "id": "2e033926",
   "metadata": {},
   "outputs": [
    {
     "name": "stdout",
     "output_type": "stream",
     "text": [
      "2624511793760\n"
     ]
    }
   ],
   "source": [
    "print(id(x))"
   ]
  },
  {
   "cell_type": "code",
   "execution_count": 9,
   "id": "ef206783",
   "metadata": {},
   "outputs": [
    {
     "name": "stdout",
     "output_type": "stream",
     "text": [
      "<__main__.Cricket object at 0x0000026311187550>\n"
     ]
    }
   ],
   "source": [
    "print(Cricket())"
   ]
  },
  {
   "cell_type": "code",
   "execution_count": null,
   "id": "235f27d2",
   "metadata": {},
   "outputs": [],
   "source": [
    "x = Cricket()"
   ]
  },
  {
   "cell_type": "code",
   "execution_count": null,
   "id": "0ff38837",
   "metadata": {},
   "outputs": [],
   "source": [
    "TV blueprint   - class\n",
    "- smart tv\n",
    "- colors\n",
    "- usb\n",
    "- hdmi\n",
    "\n",
    "Actual TV   - object\n",
    "\n",
    "Remote  - reference"
   ]
  },
  {
   "cell_type": "code",
   "execution_count": 1,
   "id": "171e5a3b",
   "metadata": {},
   "outputs": [],
   "source": [
    "class Test:\n",
    "    \n",
    "    def add(self):\n",
    "        print(\"This is add method\")\n",
    "    \n",
    "    def sub(self, a, b): # self = t1\n",
    "        print(a)\n",
    "        print(b)\n",
    "    \n",
    "t1 = Test()\n",
    "t2 = Test()"
   ]
  },
  {
   "cell_type": "code",
   "execution_count": 2,
   "id": "c1ca4ce3",
   "metadata": {},
   "outputs": [
    {
     "name": "stdout",
     "output_type": "stream",
     "text": [
      "This is add method\n",
      "This is add method\n"
     ]
    }
   ],
   "source": [
    "t1.add()\n",
    "t2.add()"
   ]
  },
  {
   "cell_type": "code",
   "execution_count": 3,
   "id": "7ccb6a3a",
   "metadata": {},
   "outputs": [
    {
     "name": "stdout",
     "output_type": "stream",
     "text": [
      "10\n",
      "20\n"
     ]
    }
   ],
   "source": [
    "t1.sub(10,20)"
   ]
  },
  {
   "cell_type": "code",
   "execution_count": 4,
   "id": "6169b6d7",
   "metadata": {},
   "outputs": [
    {
     "name": "stdout",
     "output_type": "stream",
     "text": [
      "7\n",
      "11\n"
     ]
    }
   ],
   "source": [
    "t2.sub(7,11)"
   ]
  },
  {
   "cell_type": "code",
   "execution_count": 5,
   "id": "91960f33",
   "metadata": {},
   "outputs": [
    {
     "ename": "TypeError",
     "evalue": "sub() missing 2 required positional arguments: 'a' and 'b'",
     "output_type": "error",
     "traceback": [
      "\u001b[1;31m---------------------------------------------------------------------------\u001b[0m",
      "\u001b[1;31mTypeError\u001b[0m                                 Traceback (most recent call last)",
      "\u001b[1;32m<ipython-input-5-53d284fb333d>\u001b[0m in \u001b[0;36m<module>\u001b[1;34m\u001b[0m\n\u001b[1;32m----> 1\u001b[1;33m \u001b[0mt1\u001b[0m\u001b[1;33m.\u001b[0m\u001b[0msub\u001b[0m\u001b[1;33m(\u001b[0m\u001b[1;33m)\u001b[0m\u001b[1;33m\u001b[0m\u001b[1;33m\u001b[0m\u001b[0m\n\u001b[0m",
      "\u001b[1;31mTypeError\u001b[0m: sub() missing 2 required positional arguments: 'a' and 'b'"
     ]
    }
   ],
   "source": [
    "t1.sub()"
   ]
  },
  {
   "cell_type": "code",
   "execution_count": 6,
   "id": "10d40955",
   "metadata": {},
   "outputs": [
    {
     "name": "stdout",
     "output_type": "stream",
     "text": [
      "<__main__.Test object at 0x000001FD597E8B80>\n",
      "<__main__.Test object at 0x000001FD597E8B80>\n",
      "This is add method\n",
      "\n",
      "<__main__.Test object at 0x000001FD597E8BE0>\n",
      "<__main__.Test object at 0x000001FD597E8BE0>\n",
      "This is add method\n"
     ]
    }
   ],
   "source": [
    "class Test:\n",
    "    \n",
    "    def add(self):\n",
    "        print(self)\n",
    "        print(\"This is add method\")\n",
    "    \n",
    "    def sub(self, a, b): # self = t1\n",
    "        print(a)\n",
    "        print(b)\n",
    "    \n",
    "t1 = Test()\n",
    "t2 = Test()\n",
    "\n",
    "print(t1)\n",
    "t1.add()\n",
    "print()\n",
    "print(t2)\n",
    "t2.add()"
   ]
  },
  {
   "cell_type": "markdown",
   "id": "b8e7a1f9",
   "metadata": {},
   "source": [
    "### Local variables and class variables"
   ]
  },
  {
   "cell_type": "code",
   "execution_count": 7,
   "id": "f1d45d1b",
   "metadata": {},
   "outputs": [],
   "source": [
    "class Test:\n",
    "    def add(self):\n",
    "        print(\"This is add method\")\n",
    "    \n",
    "    def sub(self, a, b): # a and b are the local variables of sub method\n",
    "        self.x = a       # t1.x = 10   t2.x = 11   # x & y are class variables\n",
    "        self.y = b       # t1.y = 20   t2.y = 12   # or instance variables\n",
    "    \n",
    "    def show(self):\n",
    "        print(self.x)\n",
    "        print(self.y)"
   ]
  },
  {
   "cell_type": "code",
   "execution_count": 8,
   "id": "f823b2a6",
   "metadata": {},
   "outputs": [],
   "source": [
    "t1 = Test()\n",
    "t2 = Test()"
   ]
  },
  {
   "cell_type": "code",
   "execution_count": 9,
   "id": "0b3b889b",
   "metadata": {},
   "outputs": [
    {
     "name": "stdout",
     "output_type": "stream",
     "text": [
      "This is add method\n",
      "This is add method\n"
     ]
    }
   ],
   "source": [
    "t1.add()\n",
    "t2.add()"
   ]
  },
  {
   "cell_type": "code",
   "execution_count": 10,
   "id": "15f480f4",
   "metadata": {},
   "outputs": [],
   "source": [
    "t1.sub(10,20)\n",
    "t2.sub(11,12)"
   ]
  },
  {
   "cell_type": "code",
   "execution_count": 11,
   "id": "7923f18c",
   "metadata": {},
   "outputs": [
    {
     "name": "stdout",
     "output_type": "stream",
     "text": [
      "10\n",
      "20\n"
     ]
    }
   ],
   "source": [
    "t1.show()"
   ]
  },
  {
   "cell_type": "code",
   "execution_count": 12,
   "id": "3a9b52e2",
   "metadata": {},
   "outputs": [
    {
     "name": "stdout",
     "output_type": "stream",
     "text": [
      "11\n",
      "12\n"
     ]
    }
   ],
   "source": [
    "t2.show()"
   ]
  },
  {
   "cell_type": "code",
   "execution_count": 13,
   "id": "901fdc41",
   "metadata": {},
   "outputs": [
    {
     "name": "stdout",
     "output_type": "stream",
     "text": [
      "10\n",
      "20\n"
     ]
    }
   ],
   "source": [
    "print(t1.x)\n",
    "print(t1.y)"
   ]
  },
  {
   "cell_type": "code",
   "execution_count": 14,
   "id": "8926fdd2",
   "metadata": {},
   "outputs": [
    {
     "ename": "AttributeError",
     "evalue": "'Test' object has no attribute 'a'",
     "output_type": "error",
     "traceback": [
      "\u001b[1;31m---------------------------------------------------------------------------\u001b[0m",
      "\u001b[1;31mAttributeError\u001b[0m                            Traceback (most recent call last)",
      "\u001b[1;32m<ipython-input-14-80e8f66c0508>\u001b[0m in \u001b[0;36m<module>\u001b[1;34m\u001b[0m\n\u001b[1;32m----> 1\u001b[1;33m \u001b[0mprint\u001b[0m\u001b[1;33m(\u001b[0m\u001b[0mt1\u001b[0m\u001b[1;33m.\u001b[0m\u001b[0ma\u001b[0m\u001b[1;33m)\u001b[0m\u001b[1;33m\u001b[0m\u001b[1;33m\u001b[0m\u001b[0m\n\u001b[0m",
      "\u001b[1;31mAttributeError\u001b[0m: 'Test' object has no attribute 'a'"
     ]
    }
   ],
   "source": [
    "print(t1.a)"
   ]
  },
  {
   "cell_type": "code",
   "execution_count": 15,
   "id": "a33ac0a7",
   "metadata": {},
   "outputs": [
    {
     "ename": "NameError",
     "evalue": "name 'x' is not defined",
     "output_type": "error",
     "traceback": [
      "\u001b[1;31m---------------------------------------------------------------------------\u001b[0m",
      "\u001b[1;31mNameError\u001b[0m                                 Traceback (most recent call last)",
      "\u001b[1;32m<ipython-input-15-fc17d851ef81>\u001b[0m in \u001b[0;36m<module>\u001b[1;34m\u001b[0m\n\u001b[1;32m----> 1\u001b[1;33m \u001b[0mprint\u001b[0m\u001b[1;33m(\u001b[0m\u001b[0mx\u001b[0m\u001b[1;33m)\u001b[0m\u001b[1;33m\u001b[0m\u001b[1;33m\u001b[0m\u001b[0m\n\u001b[0m",
      "\u001b[1;31mNameError\u001b[0m: name 'x' is not defined"
     ]
    }
   ],
   "source": [
    "print(x)"
   ]
  },
  {
   "cell_type": "code",
   "execution_count": 16,
   "id": "df95d162",
   "metadata": {},
   "outputs": [
    {
     "ename": "NameError",
     "evalue": "name 'a' is not defined",
     "output_type": "error",
     "traceback": [
      "\u001b[1;31m---------------------------------------------------------------------------\u001b[0m",
      "\u001b[1;31mNameError\u001b[0m                                 Traceback (most recent call last)",
      "\u001b[1;32m<ipython-input-16-bca0e2660b9f>\u001b[0m in \u001b[0;36m<module>\u001b[1;34m\u001b[0m\n\u001b[1;32m----> 1\u001b[1;33m \u001b[0mprint\u001b[0m\u001b[1;33m(\u001b[0m\u001b[0ma\u001b[0m\u001b[1;33m)\u001b[0m\u001b[1;33m\u001b[0m\u001b[1;33m\u001b[0m\u001b[0m\n\u001b[0m",
      "\u001b[1;31mNameError\u001b[0m: name 'a' is not defined"
     ]
    }
   ],
   "source": [
    "print(a)"
   ]
  },
  {
   "cell_type": "markdown",
   "id": "ccf47daf",
   "metadata": {},
   "source": [
    "# Constructor\n",
    "\n",
    "It is a special member method of a class"
   ]
  },
  {
   "cell_type": "code",
   "execution_count": null,
   "id": "3e8218a0",
   "metadata": {},
   "outputs": [],
   "source": [
    "__init__()   # magic method  //  dunders"
   ]
  },
  {
   "cell_type": "code",
   "execution_count": 17,
   "id": "fecf53c1",
   "metadata": {},
   "outputs": [],
   "source": [
    "class Cat:\n",
    "    \n",
    "    def __init__(self):\n",
    "        print(\"This is constructor\")"
   ]
  },
  {
   "cell_type": "code",
   "execution_count": 18,
   "id": "9d40109f",
   "metadata": {},
   "outputs": [
    {
     "name": "stdout",
     "output_type": "stream",
     "text": [
      "This is constructor\n"
     ]
    }
   ],
   "source": [
    "f = Cat()"
   ]
  },
  {
   "cell_type": "code",
   "execution_count": 19,
   "id": "2fee0eb3",
   "metadata": {},
   "outputs": [
    {
     "name": "stdout",
     "output_type": "stream",
     "text": [
      "This is constructor\n"
     ]
    },
    {
     "data": {
      "text/plain": [
       "<__main__.Cat at 0x1fd597e8f40>"
      ]
     },
     "execution_count": 19,
     "metadata": {},
     "output_type": "execute_result"
    }
   ],
   "source": [
    "Cat()"
   ]
  },
  {
   "cell_type": "markdown",
   "id": "b1eda8a6",
   "metadata": {},
   "source": [
    "### paramatrized constructor"
   ]
  },
  {
   "cell_type": "code",
   "execution_count": 20,
   "id": "5160ef54",
   "metadata": {},
   "outputs": [],
   "source": [
    "class Car:\n",
    "    def __init__(self, x):\n",
    "        self.y = x"
   ]
  },
  {
   "cell_type": "code",
   "execution_count": 22,
   "id": "f9495a66",
   "metadata": {},
   "outputs": [],
   "source": [
    "f = Car(10)"
   ]
  },
  {
   "cell_type": "code",
   "execution_count": 23,
   "id": "4e73d236",
   "metadata": {},
   "outputs": [
    {
     "name": "stdout",
     "output_type": "stream",
     "text": [
      "10\n"
     ]
    }
   ],
   "source": [
    "print(f.y)"
   ]
  },
  {
   "cell_type": "code",
   "execution_count": 24,
   "id": "66195891",
   "metadata": {},
   "outputs": [
    {
     "name": "stdout",
     "output_type": "stream",
     "text": [
      "8\n",
      "7\n"
     ]
    }
   ],
   "source": [
    "class Rectangle:\n",
    "    def __init__(self,a,b):\n",
    "        self.a = a\n",
    "        self.b = b\n",
    "\n",
    "\n",
    "r = Rectangle(8,7)\n",
    "\n",
    "print(r.a)\n",
    "print(r.b)"
   ]
  },
  {
   "cell_type": "markdown",
   "id": "4b7bceef",
   "metadata": {},
   "source": [
    "# Questions\n",
    "\n",
    "**WAP to create a class to reverse a string word by word**"
   ]
  },
  {
   "cell_type": "code",
   "execution_count": null,
   "id": "9241230f",
   "metadata": {},
   "outputs": [],
   "source": [
    "\"This is an apple\"\n",
    "\n",
    "\"apple an is this\""
   ]
  },
  {
   "cell_type": "markdown",
   "id": "322c3469",
   "metadata": {},
   "source": [
    "**WAP to create a class that can calculate area of circle, rectangle, square and  triangle**"
   ]
  },
  {
   "cell_type": "markdown",
   "id": "64705815",
   "metadata": {},
   "source": [
    "# Inheritance"
   ]
  },
  {
   "cell_type": "code",
   "execution_count": null,
   "id": "f2cec044",
   "metadata": {},
   "outputs": [],
   "source": []
  }
 ],
 "metadata": {
  "kernelspec": {
   "display_name": "Python 3",
   "language": "python",
   "name": "python3"
  },
  "language_info": {
   "codemirror_mode": {
    "name": "ipython",
    "version": 3
   },
   "file_extension": ".py",
   "mimetype": "text/x-python",
   "name": "python",
   "nbconvert_exporter": "python",
   "pygments_lexer": "ipython3",
   "version": "3.8.10"
  }
 },
 "nbformat": 4,
 "nbformat_minor": 5
}
