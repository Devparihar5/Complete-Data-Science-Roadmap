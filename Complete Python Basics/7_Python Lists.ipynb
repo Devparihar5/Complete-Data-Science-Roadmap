{
 "cells": [
  {
   "cell_type": "markdown",
   "id": "59ffebb3",
   "metadata": {},
   "source": [
    "# Python Lists\n",
    "\n",
    "Lists are collection of different type of elements"
   ]
  },
  {
   "cell_type": "code",
   "execution_count": null,
   "id": "76527481",
   "metadata": {},
   "outputs": [],
   "source": [
    "a = 10\n",
    "b = 20\n"
   ]
  },
  {
   "cell_type": "code",
   "execution_count": null,
   "id": "dce3580a",
   "metadata": {},
   "outputs": [],
   "source": [
    "a1 = 10\n",
    "a2 = 20\n",
    "a3 = 30"
   ]
  },
  {
   "cell_type": "code",
   "execution_count": 1,
   "id": "8c0cf5aa",
   "metadata": {},
   "outputs": [
    {
     "name": "stdout",
     "output_type": "stream",
     "text": [
      "[10, 200, 30, 40]\n"
     ]
    }
   ],
   "source": [
    "l = [10, 200, 30, 40]\n",
    "print(l)"
   ]
  },
  {
   "cell_type": "code",
   "execution_count": 2,
   "id": "aa04aa98",
   "metadata": {},
   "outputs": [
    {
     "name": "stdout",
     "output_type": "stream",
     "text": [
      "['A', 100, 5, 10.5]\n"
     ]
    }
   ],
   "source": [
    "l = [\"A\", 100, 5, 10.5]\n",
    "#     0    1   2   3\n",
    "print(l)"
   ]
  },
  {
   "cell_type": "code",
   "execution_count": 3,
   "id": "c158cf39",
   "metadata": {},
   "outputs": [
    {
     "name": "stdout",
     "output_type": "stream",
     "text": [
      "A\n"
     ]
    }
   ],
   "source": [
    "print(l[0])"
   ]
  },
  {
   "cell_type": "code",
   "execution_count": 4,
   "id": "4172821c",
   "metadata": {},
   "outputs": [
    {
     "name": "stdout",
     "output_type": "stream",
     "text": [
      "10.5\n"
     ]
    }
   ],
   "source": [
    "print(l[3])"
   ]
  },
  {
   "cell_type": "code",
   "execution_count": 5,
   "id": "7c79299b",
   "metadata": {},
   "outputs": [
    {
     "name": "stdout",
     "output_type": "stream",
     "text": [
      "5\n"
     ]
    }
   ],
   "source": [
    "print(l[2])"
   ]
  },
  {
   "cell_type": "code",
   "execution_count": 6,
   "id": "9366c675",
   "metadata": {},
   "outputs": [
    {
     "name": "stdout",
     "output_type": "stream",
     "text": [
      "<class 'list'>\n"
     ]
    }
   ],
   "source": [
    "print(type(l))"
   ]
  },
  {
   "cell_type": "code",
   "execution_count": 7,
   "id": "8f88e2b9",
   "metadata": {},
   "outputs": [
    {
     "name": "stdout",
     "output_type": "stream",
     "text": [
      "<class 'str'>\n"
     ]
    }
   ],
   "source": [
    "print(type(l[0]))"
   ]
  },
  {
   "cell_type": "code",
   "execution_count": 8,
   "id": "9219c129",
   "metadata": {},
   "outputs": [
    {
     "name": "stdout",
     "output_type": "stream",
     "text": [
      "<class 'float'>\n"
     ]
    }
   ],
   "source": [
    "print(type(l[3]))"
   ]
  },
  {
   "cell_type": "code",
   "execution_count": 9,
   "id": "50c07d3b",
   "metadata": {},
   "outputs": [
    {
     "name": "stdout",
     "output_type": "stream",
     "text": [
      "20\n"
     ]
    }
   ],
   "source": [
    "a = 10\n",
    "a = 20\n",
    "print(a)"
   ]
  },
  {
   "cell_type": "code",
   "execution_count": 10,
   "id": "264fa978",
   "metadata": {},
   "outputs": [
    {
     "name": "stdout",
     "output_type": "stream",
     "text": [
      "[10, 2, 14, 5]\n"
     ]
    }
   ],
   "source": [
    "l = [1,2,14,5]\n",
    "\n",
    "l[0] = 10\n",
    "\n",
    "print(l)"
   ]
  },
  {
   "cell_type": "code",
   "execution_count": 11,
   "id": "4e89cf5f",
   "metadata": {},
   "outputs": [
    {
     "name": "stdout",
     "output_type": "stream",
     "text": [
      "[1, 2, 3, 55]\n"
     ]
    }
   ],
   "source": [
    "n = 55\n",
    "\n",
    "l = [1,2,3,n]\n",
    "\n",
    "print(l)"
   ]
  },
  {
   "cell_type": "code",
   "execution_count": 12,
   "id": "1927458b",
   "metadata": {},
   "outputs": [
    {
     "ename": "IndexError",
     "evalue": "list assignment index out of range",
     "output_type": "error",
     "traceback": [
      "\u001b[1;31m---------------------------------------------------------------------------\u001b[0m",
      "\u001b[1;31mIndexError\u001b[0m                                Traceback (most recent call last)",
      "\u001b[1;32m<ipython-input-12-3004ff7f3a34>\u001b[0m in \u001b[0;36m<module>\u001b[1;34m\u001b[0m\n\u001b[0;32m      1\u001b[0m \u001b[0ml\u001b[0m \u001b[1;33m=\u001b[0m \u001b[1;33m[\u001b[0m\u001b[1;36m1\u001b[0m\u001b[1;33m,\u001b[0m\u001b[1;36m2\u001b[0m\u001b[1;33m,\u001b[0m\u001b[1;36m3\u001b[0m\u001b[1;33m,\u001b[0m\u001b[1;36m44\u001b[0m\u001b[1;33m]\u001b[0m\u001b[1;33m\u001b[0m\u001b[1;33m\u001b[0m\u001b[0m\n\u001b[0;32m      2\u001b[0m \u001b[1;33m\u001b[0m\u001b[0m\n\u001b[1;32m----> 3\u001b[1;33m \u001b[0ml\u001b[0m\u001b[1;33m[\u001b[0m\u001b[1;36m4\u001b[0m\u001b[1;33m]\u001b[0m \u001b[1;33m=\u001b[0m \u001b[1;36m88\u001b[0m\u001b[1;33m\u001b[0m\u001b[1;33m\u001b[0m\u001b[0m\n\u001b[0m\u001b[0;32m      4\u001b[0m \u001b[1;33m\u001b[0m\u001b[0m\n\u001b[0;32m      5\u001b[0m \u001b[0mprint\u001b[0m\u001b[1;33m(\u001b[0m\u001b[0ml\u001b[0m\u001b[1;33m)\u001b[0m\u001b[1;33m\u001b[0m\u001b[1;33m\u001b[0m\u001b[0m\n",
      "\u001b[1;31mIndexError\u001b[0m: list assignment index out of range"
     ]
    }
   ],
   "source": [
    "l = [1,2,3,44]\n",
    "\n",
    "l[4] = 88\n",
    "\n",
    "print(l)"
   ]
  },
  {
   "cell_type": "code",
   "execution_count": 13,
   "id": "f9f78354",
   "metadata": {},
   "outputs": [
    {
     "name": "stdout",
     "output_type": "stream",
     "text": [
      "[]\n"
     ]
    }
   ],
   "source": [
    "l = []\n",
    "\n",
    "print(l)"
   ]
  },
  {
   "cell_type": "code",
   "execution_count": 14,
   "id": "45fba0bb",
   "metadata": {},
   "outputs": [
    {
     "name": "stdout",
     "output_type": "stream",
     "text": [
      "<class 'list'>\n"
     ]
    }
   ],
   "source": [
    "print(type(l))"
   ]
  },
  {
   "cell_type": "code",
   "execution_count": 15,
   "id": "ecfd4977",
   "metadata": {},
   "outputs": [
    {
     "name": "stdout",
     "output_type": "stream",
     "text": [
      "10\n"
     ]
    }
   ],
   "source": [
    "#   -6  -5-4 -3 -2 -1\n",
    "l = [70,50,3,50,20,10]\n",
    "#    0  1  2  3 4  5\n",
    "\n",
    "print(l[-1])"
   ]
  },
  {
   "cell_type": "code",
   "execution_count": 16,
   "id": "ba07bc41",
   "metadata": {},
   "outputs": [
    {
     "name": "stdout",
     "output_type": "stream",
     "text": [
      "70\n"
     ]
    }
   ],
   "source": [
    "print(l[-6])"
   ]
  },
  {
   "cell_type": "code",
   "execution_count": 17,
   "id": "a5a21178",
   "metadata": {},
   "outputs": [
    {
     "name": "stdout",
     "output_type": "stream",
     "text": [
      "70\n"
     ]
    }
   ],
   "source": [
    "print(l[0])"
   ]
  },
  {
   "cell_type": "markdown",
   "id": "49aaa801",
   "metadata": {},
   "source": [
    "# List Slicing"
   ]
  },
  {
   "cell_type": "code",
   "execution_count": 18,
   "id": "f515417d",
   "metadata": {},
   "outputs": [
    {
     "name": "stdout",
     "output_type": "stream",
     "text": [
      "[11, 4, 8, 16]\n"
     ]
    }
   ],
   "source": [
    "n = [11,4,8,16,32,64,128,100,256]\n",
    "#     0 1 2  3  4  5  6   7   8\n",
    "\n",
    "print(n[0:4])"
   ]
  },
  {
   "cell_type": "code",
   "execution_count": 19,
   "id": "86de8de7",
   "metadata": {},
   "outputs": [
    {
     "name": "stdout",
     "output_type": "stream",
     "text": [
      "[11, 4, 8, 16, 32, 64, 128, 100, 256]\n"
     ]
    }
   ],
   "source": [
    "print(n)"
   ]
  },
  {
   "cell_type": "code",
   "execution_count": 20,
   "id": "1773c470",
   "metadata": {},
   "outputs": [
    {
     "name": "stdout",
     "output_type": "stream",
     "text": [
      "[16, 32, 64, 128]\n"
     ]
    }
   ],
   "source": [
    "print(n[3:7])"
   ]
  },
  {
   "cell_type": "code",
   "execution_count": 21,
   "id": "fdb6a5df",
   "metadata": {},
   "outputs": [
    {
     "name": "stdout",
     "output_type": "stream",
     "text": [
      "[64, 128, 100, 256]\n"
     ]
    }
   ],
   "source": [
    "print(n[5:])"
   ]
  },
  {
   "cell_type": "code",
   "execution_count": 22,
   "id": "db00fdb3",
   "metadata": {},
   "outputs": [
    {
     "name": "stdout",
     "output_type": "stream",
     "text": [
      "[11, 4, 8]\n"
     ]
    }
   ],
   "source": [
    "print(n[:3])"
   ]
  },
  {
   "cell_type": "code",
   "execution_count": 23,
   "id": "a5b23e32",
   "metadata": {},
   "outputs": [
    {
     "name": "stdout",
     "output_type": "stream",
     "text": [
      "[11, 4, 8, 16, 32, 64, 128, 100, 256]\n"
     ]
    }
   ],
   "source": [
    "print(n)"
   ]
  },
  {
   "cell_type": "code",
   "execution_count": 24,
   "id": "06689dcb",
   "metadata": {},
   "outputs": [
    {
     "name": "stdout",
     "output_type": "stream",
     "text": [
      "[11, 4]\n"
     ]
    }
   ],
   "source": [
    "print(n[0:2])"
   ]
  },
  {
   "cell_type": "code",
   "execution_count": 25,
   "id": "3792226e",
   "metadata": {},
   "outputs": [
    {
     "name": "stdout",
     "output_type": "stream",
     "text": [
      "[11]\n"
     ]
    }
   ],
   "source": [
    "print(n[0:1])"
   ]
  },
  {
   "cell_type": "code",
   "execution_count": 26,
   "id": "4c899daf",
   "metadata": {},
   "outputs": [
    {
     "name": "stdout",
     "output_type": "stream",
     "text": [
      "[11, 4, 8, 16]\n"
     ]
    }
   ],
   "source": [
    "print(n[0:4])"
   ]
  },
  {
   "cell_type": "code",
   "execution_count": 27,
   "id": "a6385d78",
   "metadata": {},
   "outputs": [
    {
     "name": "stdout",
     "output_type": "stream",
     "text": [
      "[11, 4, 8, 16, 32, 64, 128, 100, 256]\n"
     ]
    }
   ],
   "source": [
    "print(n)"
   ]
  },
  {
   "cell_type": "code",
   "execution_count": 28,
   "id": "13850671",
   "metadata": {},
   "outputs": [
    {
     "name": "stdout",
     "output_type": "stream",
     "text": [
      "[]\n"
     ]
    }
   ],
   "source": [
    "print(n[4:0])"
   ]
  },
  {
   "cell_type": "code",
   "execution_count": 29,
   "id": "24c07a41",
   "metadata": {},
   "outputs": [
    {
     "name": "stdout",
     "output_type": "stream",
     "text": [
      "[64, 128, 100]\n"
     ]
    }
   ],
   "source": [
    "print(n[-4:-1])"
   ]
  },
  {
   "cell_type": "code",
   "execution_count": 30,
   "id": "0d41187e",
   "metadata": {},
   "outputs": [
    {
     "name": "stdout",
     "output_type": "stream",
     "text": [
      "[]\n"
     ]
    }
   ],
   "source": [
    "print(n[-1:-4])"
   ]
  },
  {
   "cell_type": "code",
   "execution_count": 31,
   "id": "36065db6",
   "metadata": {},
   "outputs": [
    {
     "name": "stdout",
     "output_type": "stream",
     "text": [
      "[11, 4, 8, 16, 32, 64, 128, 100, 256]\n"
     ]
    }
   ],
   "source": [
    "print(n)"
   ]
  },
  {
   "cell_type": "code",
   "execution_count": 32,
   "id": "024c2e58",
   "metadata": {},
   "outputs": [
    {
     "name": "stdout",
     "output_type": "stream",
     "text": [
      "[8, 16, 32, 64, 128, 100, 256]\n"
     ]
    }
   ],
   "source": [
    "print(n[-7:])"
   ]
  },
  {
   "cell_type": "code",
   "execution_count": 33,
   "id": "4f57fce8",
   "metadata": {},
   "outputs": [
    {
     "name": "stdout",
     "output_type": "stream",
     "text": [
      "[256]\n"
     ]
    }
   ],
   "source": [
    "print(n[-1:])"
   ]
  },
  {
   "cell_type": "code",
   "execution_count": 34,
   "id": "363ddf5b",
   "metadata": {},
   "outputs": [
    {
     "name": "stdout",
     "output_type": "stream",
     "text": [
      "[8, 16, 32]\n"
     ]
    }
   ],
   "source": [
    "print(n[2:-4])"
   ]
  },
  {
   "cell_type": "code",
   "execution_count": 35,
   "id": "41817c06",
   "metadata": {},
   "outputs": [
    {
     "name": "stdout",
     "output_type": "stream",
     "text": [
      "[11, 4, 8, 16, 32, 64, 128, 100, 256]\n"
     ]
    }
   ],
   "source": [
    "print(n)"
   ]
  },
  {
   "cell_type": "code",
   "execution_count": 36,
   "id": "ef2cfd20",
   "metadata": {},
   "outputs": [
    {
     "name": "stdout",
     "output_type": "stream",
     "text": [
      "[11, 4, 8, 16, 32, 64, 128, 100, 256]\n"
     ]
    }
   ],
   "source": [
    "print(n[:])"
   ]
  },
  {
   "cell_type": "code",
   "execution_count": 37,
   "id": "21e20cf0",
   "metadata": {},
   "outputs": [
    {
     "name": "stdout",
     "output_type": "stream",
     "text": [
      "[11, 8, 32, 128, 256]\n"
     ]
    }
   ],
   "source": [
    "print(n[::2])  # steps"
   ]
  },
  {
   "cell_type": "code",
   "execution_count": 38,
   "id": "6017cfed",
   "metadata": {},
   "outputs": [
    {
     "name": "stdout",
     "output_type": "stream",
     "text": [
      "[11, 32, 256]\n"
     ]
    }
   ],
   "source": [
    "print(n[::4])"
   ]
  },
  {
   "cell_type": "code",
   "execution_count": 41,
   "id": "c2c4c375",
   "metadata": {},
   "outputs": [
    {
     "name": "stdout",
     "output_type": "stream",
     "text": [
      "[11, 4, 8, 16, 32, 64, 128, 100, 256]\n"
     ]
    }
   ],
   "source": [
    "print(n[::1])"
   ]
  },
  {
   "cell_type": "code",
   "execution_count": 39,
   "id": "6ec74499",
   "metadata": {},
   "outputs": [
    {
     "name": "stdout",
     "output_type": "stream",
     "text": [
      "[256, 100, 128, 64, 32, 16, 8, 4, 11]\n"
     ]
    }
   ],
   "source": [
    "print(n[::-1])"
   ]
  },
  {
   "cell_type": "code",
   "execution_count": 40,
   "id": "e51e9b9f",
   "metadata": {},
   "outputs": [
    {
     "name": "stdout",
     "output_type": "stream",
     "text": [
      "[11, 4, 8, 16, 32, 64, 128, 100, 256]\n"
     ]
    }
   ],
   "source": [
    "print(n)"
   ]
  },
  {
   "cell_type": "code",
   "execution_count": 42,
   "id": "6da355d5",
   "metadata": {},
   "outputs": [
    {
     "name": "stdout",
     "output_type": "stream",
     "text": [
      "[11, 8, 32]\n"
     ]
    }
   ],
   "source": [
    "print(n[0:5:2])"
   ]
  },
  {
   "cell_type": "code",
   "execution_count": 43,
   "id": "764a548c",
   "metadata": {},
   "outputs": [
    {
     "name": "stdout",
     "output_type": "stream",
     "text": [
      "[]\n"
     ]
    }
   ],
   "source": [
    "print(n[8:1:])"
   ]
  },
  {
   "cell_type": "code",
   "execution_count": 44,
   "id": "00b1ed8d",
   "metadata": {},
   "outputs": [
    {
     "name": "stdout",
     "output_type": "stream",
     "text": [
      "[256, 100, 128, 64, 32, 16, 8]\n"
     ]
    }
   ],
   "source": [
    "print(n[8:1:-1])"
   ]
  },
  {
   "cell_type": "code",
   "execution_count": 45,
   "id": "592fdf44",
   "metadata": {},
   "outputs": [
    {
     "name": "stdout",
     "output_type": "stream",
     "text": [
      "[11, 4, 8, 16, 32, 64, 128, 100, 256]\n"
     ]
    }
   ],
   "source": [
    "print(n)"
   ]
  },
  {
   "cell_type": "code",
   "execution_count": 46,
   "id": "7f9ca5fe",
   "metadata": {},
   "outputs": [
    {
     "name": "stdout",
     "output_type": "stream",
     "text": [
      "[256, 128, 32, 8]\n"
     ]
    }
   ],
   "source": [
    "print(n[8:1:-2])"
   ]
  },
  {
   "cell_type": "code",
   "execution_count": 47,
   "id": "a52f2894",
   "metadata": {},
   "outputs": [
    {
     "name": "stdout",
     "output_type": "stream",
     "text": [
      "[32, 16, 8]\n"
     ]
    }
   ],
   "source": [
    "print(n[4:1:-1])"
   ]
  },
  {
   "cell_type": "code",
   "execution_count": 48,
   "id": "1fc86c8f",
   "metadata": {},
   "outputs": [
    {
     "name": "stdout",
     "output_type": "stream",
     "text": [
      "[]\n"
     ]
    }
   ],
   "source": [
    "print(n[1:4:-1])"
   ]
  },
  {
   "cell_type": "code",
   "execution_count": 49,
   "id": "351fbf4b",
   "metadata": {},
   "outputs": [
    {
     "ename": "ValueError",
     "evalue": "slice step cannot be zero",
     "output_type": "error",
     "traceback": [
      "\u001b[1;31m---------------------------------------------------------------------------\u001b[0m",
      "\u001b[1;31mValueError\u001b[0m                                Traceback (most recent call last)",
      "\u001b[1;32m<ipython-input-49-219e3b9d50fa>\u001b[0m in \u001b[0;36m<module>\u001b[1;34m\u001b[0m\n\u001b[1;32m----> 1\u001b[1;33m \u001b[0mprint\u001b[0m\u001b[1;33m(\u001b[0m\u001b[0mn\u001b[0m\u001b[1;33m[\u001b[0m\u001b[1;36m1\u001b[0m\u001b[1;33m:\u001b[0m\u001b[1;36m7\u001b[0m\u001b[1;33m:\u001b[0m\u001b[1;36m0\u001b[0m\u001b[1;33m]\u001b[0m\u001b[1;33m)\u001b[0m\u001b[1;33m\u001b[0m\u001b[1;33m\u001b[0m\u001b[0m\n\u001b[0m",
      "\u001b[1;31mValueError\u001b[0m: slice step cannot be zero"
     ]
    }
   ],
   "source": [
    "print(n[1:7:0])"
   ]
  },
  {
   "cell_type": "code",
   "execution_count": null,
   "id": "0b0c1eb6",
   "metadata": {},
   "outputs": [],
   "source": []
  }
 ],
 "metadata": {
  "kernelspec": {
   "display_name": "Python 3",
   "language": "python",
   "name": "python3"
  },
  "language_info": {
   "codemirror_mode": {
    "name": "ipython",
    "version": 3
   },
   "file_extension": ".py",
   "mimetype": "text/x-python",
   "name": "python",
   "nbconvert_exporter": "python",
   "pygments_lexer": "ipython3",
   "version": "3.8.10"
  }
 },
 "nbformat": 4,
 "nbformat_minor": 5
}
