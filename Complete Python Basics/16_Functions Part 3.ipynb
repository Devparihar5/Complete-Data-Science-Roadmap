{
 "cells": [
  {
   "cell_type": "markdown",
   "id": "42bc82cf",
   "metadata": {},
   "source": [
    "# Functions"
   ]
  },
  {
   "cell_type": "code",
   "execution_count": 1,
   "id": "fd4adff4",
   "metadata": {},
   "outputs": [
    {
     "name": "stdout",
     "output_type": "stream",
     "text": [
      "Hello\n"
     ]
    }
   ],
   "source": [
    "print(\"Hello\")"
   ]
  },
  {
   "cell_type": "code",
   "execution_count": 2,
   "id": "6c6c14ad",
   "metadata": {},
   "outputs": [],
   "source": [
    "def indore():                  # definition of a function\n",
    "    print(\"Hello Indore\")\n",
    "    print(\"I am the best!\")"
   ]
  },
  {
   "cell_type": "code",
   "execution_count": 3,
   "id": "b9a62af8",
   "metadata": {},
   "outputs": [
    {
     "name": "stdout",
     "output_type": "stream",
     "text": [
      "Hello Indore\n",
      "I am the best!\n"
     ]
    }
   ],
   "source": [
    "indore()                     # calling of a function"
   ]
  },
  {
   "cell_type": "code",
   "execution_count": 4,
   "id": "565bb08a",
   "metadata": {},
   "outputs": [
    {
     "name": "stdout",
     "output_type": "stream",
     "text": [
      "Help on built-in function max in module builtins:\n",
      "\n",
      "max(...)\n",
      "    max(iterable, *[, default=obj, key=func]) -> value\n",
      "    max(arg1, arg2, *args, *[, key=func]) -> value\n",
      "    \n",
      "    With a single iterable argument, return its biggest item. The\n",
      "    default keyword-only argument specifies an object to return if\n",
      "    the provided iterable is empty.\n",
      "    With two or more arguments, return the largest argument.\n",
      "\n"
     ]
    }
   ],
   "source": [
    "help(max)"
   ]
  },
  {
   "cell_type": "code",
   "execution_count": 5,
   "id": "afbf3d66",
   "metadata": {},
   "outputs": [],
   "source": [
    "max?"
   ]
  },
  {
   "cell_type": "code",
   "execution_count": 6,
   "id": "f554fd88",
   "metadata": {
    "scrolled": true
   },
   "outputs": [
    {
     "name": "stdout",
     "output_type": "stream",
     "text": [
      "1\n",
      "2\n",
      "3\n"
     ]
    }
   ],
   "source": [
    "def paint():\n",
    "    print(1)\n",
    "    print(2)\n",
    "    print(3)\n",
    "\n",
    "paint()"
   ]
  },
  {
   "cell_type": "code",
   "execution_count": 8,
   "id": "8a1a56c3",
   "metadata": {},
   "outputs": [
    {
     "name": "stdout",
     "output_type": "stream",
     "text": [
      "1\n",
      "2\n",
      "3\n",
      "Hello\n",
      "1\n",
      "2\n",
      "3\n",
      "Hello\n",
      "1\n",
      "2\n",
      "3\n"
     ]
    }
   ],
   "source": [
    "paint()\n",
    "print(\"Hello\")\n",
    "paint()\n",
    "print(\"Hello\")\n",
    "paint()"
   ]
  },
  {
   "cell_type": "code",
   "execution_count": 9,
   "id": "e68a2ab1",
   "metadata": {},
   "outputs": [
    {
     "ename": "NameError",
     "evalue": "name 'hello' is not defined",
     "output_type": "error",
     "traceback": [
      "\u001b[1;31m---------------------------------------------------------------------------\u001b[0m",
      "\u001b[1;31mNameError\u001b[0m                                 Traceback (most recent call last)",
      "\u001b[1;32m<ipython-input-9-ec0ffb3daaa0>\u001b[0m in \u001b[0;36m<module>\u001b[1;34m\u001b[0m\n\u001b[1;32m----> 1\u001b[1;33m \u001b[0mhello\u001b[0m\u001b[1;33m(\u001b[0m\u001b[1;33m)\u001b[0m\u001b[1;33m\u001b[0m\u001b[1;33m\u001b[0m\u001b[0m\n\u001b[0m\u001b[0;32m      2\u001b[0m \u001b[1;33m\u001b[0m\u001b[0m\n\u001b[0;32m      3\u001b[0m \u001b[1;32mdef\u001b[0m \u001b[0mhello\u001b[0m\u001b[1;33m(\u001b[0m\u001b[1;33m)\u001b[0m\u001b[1;33m:\u001b[0m\u001b[1;33m\u001b[0m\u001b[1;33m\u001b[0m\u001b[0m\n\u001b[0;32m      4\u001b[0m     \u001b[0mprint\u001b[0m\u001b[1;33m(\u001b[0m\u001b[1;34m\"Hello User\"\u001b[0m\u001b[1;33m)\u001b[0m\u001b[1;33m\u001b[0m\u001b[1;33m\u001b[0m\u001b[0m\n",
      "\u001b[1;31mNameError\u001b[0m: name 'hello' is not defined"
     ]
    }
   ],
   "source": [
    "hello()\n",
    "\n",
    "def hello():\n",
    "    print(\"Hello User\")"
   ]
  },
  {
   "cell_type": "markdown",
   "id": "465b3911",
   "metadata": {},
   "source": [
    "# Arguments"
   ]
  },
  {
   "cell_type": "code",
   "execution_count": 10,
   "id": "d470c9cb",
   "metadata": {},
   "outputs": [
    {
     "name": "stdout",
     "output_type": "stream",
     "text": [
      "Hello\n"
     ]
    }
   ],
   "source": [
    "print(\"Hello\")"
   ]
  },
  {
   "cell_type": "code",
   "execution_count": 11,
   "id": "4842cade",
   "metadata": {},
   "outputs": [],
   "source": [
    "def indore(a):         # a = \"Hi\"\n",
    "    print(a + \"!!\")"
   ]
  },
  {
   "cell_type": "code",
   "execution_count": 13,
   "id": "c9360916",
   "metadata": {},
   "outputs": [
    {
     "name": "stdout",
     "output_type": "stream",
     "text": [
      "Hi!!\n"
     ]
    }
   ],
   "source": [
    "indore(\"Hi\")"
   ]
  },
  {
   "cell_type": "code",
   "execution_count": 14,
   "id": "515787f1",
   "metadata": {},
   "outputs": [
    {
     "name": "stdout",
     "output_type": "stream",
     "text": [
      "Hello!!\n",
      "India!!\n",
      "Chennai!!\n"
     ]
    }
   ],
   "source": [
    "indore(\"Hello\")\n",
    "indore(\"India\")\n",
    "indore(\"Chennai\")"
   ]
  },
  {
   "cell_type": "code",
   "execution_count": 15,
   "id": "55ddbe40",
   "metadata": {},
   "outputs": [],
   "source": [
    "def add(x , y):\n",
    "    print(x + y)"
   ]
  },
  {
   "cell_type": "code",
   "execution_count": 16,
   "id": "7f7d61b8",
   "metadata": {},
   "outputs": [
    {
     "ename": "TypeError",
     "evalue": "add() missing 1 required positional argument: 'y'",
     "output_type": "error",
     "traceback": [
      "\u001b[1;31m---------------------------------------------------------------------------\u001b[0m",
      "\u001b[1;31mTypeError\u001b[0m                                 Traceback (most recent call last)",
      "\u001b[1;32m<ipython-input-16-fb866b66e1c7>\u001b[0m in \u001b[0;36m<module>\u001b[1;34m\u001b[0m\n\u001b[1;32m----> 1\u001b[1;33m \u001b[0madd\u001b[0m\u001b[1;33m(\u001b[0m\u001b[1;36m10\u001b[0m\u001b[1;33m)\u001b[0m\u001b[1;33m\u001b[0m\u001b[1;33m\u001b[0m\u001b[0m\n\u001b[0m",
      "\u001b[1;31mTypeError\u001b[0m: add() missing 1 required positional argument: 'y'"
     ]
    }
   ],
   "source": [
    "add(10)"
   ]
  },
  {
   "cell_type": "code",
   "execution_count": 17,
   "id": "c5caa984",
   "metadata": {},
   "outputs": [
    {
     "ename": "TypeError",
     "evalue": "add() missing 2 required positional arguments: 'x' and 'y'",
     "output_type": "error",
     "traceback": [
      "\u001b[1;31m---------------------------------------------------------------------------\u001b[0m",
      "\u001b[1;31mTypeError\u001b[0m                                 Traceback (most recent call last)",
      "\u001b[1;32m<ipython-input-17-d5d29de3ed94>\u001b[0m in \u001b[0;36m<module>\u001b[1;34m\u001b[0m\n\u001b[1;32m----> 1\u001b[1;33m \u001b[0madd\u001b[0m\u001b[1;33m(\u001b[0m\u001b[1;33m)\u001b[0m\u001b[1;33m\u001b[0m\u001b[1;33m\u001b[0m\u001b[0m\n\u001b[0m",
      "\u001b[1;31mTypeError\u001b[0m: add() missing 2 required positional arguments: 'x' and 'y'"
     ]
    }
   ],
   "source": [
    "add()"
   ]
  },
  {
   "cell_type": "code",
   "execution_count": 18,
   "id": "d10ae7bd",
   "metadata": {},
   "outputs": [
    {
     "ename": "TypeError",
     "evalue": "add() takes 2 positional arguments but 3 were given",
     "output_type": "error",
     "traceback": [
      "\u001b[1;31m---------------------------------------------------------------------------\u001b[0m",
      "\u001b[1;31mTypeError\u001b[0m                                 Traceback (most recent call last)",
      "\u001b[1;32m<ipython-input-18-ff1b6584ceb8>\u001b[0m in \u001b[0;36m<module>\u001b[1;34m\u001b[0m\n\u001b[1;32m----> 1\u001b[1;33m \u001b[0madd\u001b[0m\u001b[1;33m(\u001b[0m\u001b[1;36m1\u001b[0m\u001b[1;33m,\u001b[0m\u001b[1;36m2\u001b[0m\u001b[1;33m,\u001b[0m\u001b[1;36m3\u001b[0m\u001b[1;33m)\u001b[0m\u001b[1;33m\u001b[0m\u001b[1;33m\u001b[0m\u001b[0m\n\u001b[0m",
      "\u001b[1;31mTypeError\u001b[0m: add() takes 2 positional arguments but 3 were given"
     ]
    }
   ],
   "source": [
    "add(1,2,3)"
   ]
  },
  {
   "cell_type": "code",
   "execution_count": 19,
   "id": "2535ac26",
   "metadata": {},
   "outputs": [],
   "source": [
    "def add(x , y):\n",
    "    print(x + y)"
   ]
  },
  {
   "cell_type": "code",
   "execution_count": 20,
   "id": "d595cd7f",
   "metadata": {},
   "outputs": [
    {
     "name": "stdout",
     "output_type": "stream",
     "text": [
      "30\n"
     ]
    }
   ],
   "source": [
    "add(10,20)"
   ]
  },
  {
   "cell_type": "code",
   "execution_count": 21,
   "id": "c3b6ab0d",
   "metadata": {},
   "outputs": [
    {
     "name": "stdout",
     "output_type": "stream",
     "text": [
      "15\n"
     ]
    }
   ],
   "source": [
    "add(7,8)"
   ]
  },
  {
   "cell_type": "code",
   "execution_count": null,
   "id": "cd58ad61",
   "metadata": {},
   "outputs": [],
   "source": [
    "1. Create a function which takes a value and print reverse of it"
   ]
  },
  {
   "cell_type": "code",
   "execution_count": null,
   "id": "7a6d70ab",
   "metadata": {},
   "outputs": [],
   "source": [
    "2. Create a function which takes a value and check if it a pallindrome or not"
   ]
  },
  {
   "cell_type": "code",
   "execution_count": 1,
   "id": "e2de2df1",
   "metadata": {},
   "outputs": [
    {
     "name": "stdout",
     "output_type": "stream",
     "text": [
      "8\n"
     ]
    },
    {
     "ename": "NameError",
     "evalue": "name 'v' is not defined",
     "output_type": "error",
     "traceback": [
      "\u001b[1;31m---------------------------------------------------------------------------\u001b[0m",
      "\u001b[1;31mNameError\u001b[0m                                 Traceback (most recent call last)",
      "\u001b[1;32m<ipython-input-1-e2cb702230d4>\u001b[0m in \u001b[0;36m<module>\u001b[1;34m\u001b[0m\n\u001b[0;32m      4\u001b[0m \u001b[1;33m\u001b[0m\u001b[0m\n\u001b[0;32m      5\u001b[0m \u001b[0madd\u001b[0m\u001b[1;33m(\u001b[0m\u001b[1;36m7\u001b[0m\u001b[1;33m)\u001b[0m\u001b[1;33m\u001b[0m\u001b[1;33m\u001b[0m\u001b[0m\n\u001b[1;32m----> 6\u001b[1;33m \u001b[0mprint\u001b[0m\u001b[1;33m(\u001b[0m\u001b[0mv\u001b[0m\u001b[1;33m)\u001b[0m\u001b[1;33m\u001b[0m\u001b[1;33m\u001b[0m\u001b[0m\n\u001b[0m",
      "\u001b[1;31mNameError\u001b[0m: name 'v' is not defined"
     ]
    }
   ],
   "source": [
    "def add(v):          # local variable\n",
    "    v += 1\n",
    "    print(v)         #8\n",
    "\n",
    "add(7)\n",
    "print(v)"
   ]
  },
  {
   "cell_type": "code",
   "execution_count": 2,
   "id": "f73f4f52",
   "metadata": {},
   "outputs": [
    {
     "name": "stdout",
     "output_type": "stream",
     "text": [
      "8\n",
      "2\n"
     ]
    }
   ],
   "source": [
    "x = 2                # global variable\n",
    "def add(x):          # local variable\n",
    "    x += 1\n",
    "    print(x)         #8\n",
    "\n",
    "add(7)\n",
    "print(x)"
   ]
  },
  {
   "cell_type": "markdown",
   "id": "29abbe89",
   "metadata": {},
   "source": [
    "# Return Statement"
   ]
  },
  {
   "cell_type": "code",
   "execution_count": 3,
   "id": "ef0c92f0",
   "metadata": {},
   "outputs": [
    {
     "name": "stdout",
     "output_type": "stream",
     "text": [
      "5\n"
     ]
    }
   ],
   "source": [
    "def play(x , y):\n",
    "    if x >= y:\n",
    "        return x\n",
    "    else:\n",
    "        return y\n",
    "\n",
    "print(play(5,3))"
   ]
  },
  {
   "cell_type": "code",
   "execution_count": 4,
   "id": "48439438",
   "metadata": {},
   "outputs": [
    {
     "name": "stdout",
     "output_type": "stream",
     "text": [
      "9\n"
     ]
    }
   ],
   "source": [
    "a = play(7,9)\n",
    "#      9\n",
    "\n",
    "print(a)"
   ]
  },
  {
   "cell_type": "code",
   "execution_count": 5,
   "id": "b62eda1d",
   "metadata": {},
   "outputs": [
    {
     "name": "stdout",
     "output_type": "stream",
     "text": [
      "3\n"
     ]
    }
   ],
   "source": [
    "l = [1,2,3]\n",
    "print(max(l))"
   ]
  },
  {
   "cell_type": "code",
   "execution_count": 7,
   "id": "6bec9737",
   "metadata": {},
   "outputs": [
    {
     "name": "stdout",
     "output_type": "stream",
     "text": [
      "1\n"
     ]
    }
   ],
   "source": [
    "b = min(l)\n",
    "print(b)"
   ]
  },
  {
   "cell_type": "code",
   "execution_count": 8,
   "id": "f04db2f7",
   "metadata": {},
   "outputs": [
    {
     "name": "stdout",
     "output_type": "stream",
     "text": [
      "23\n"
     ]
    }
   ],
   "source": [
    "def sub(x,y):\n",
    "    t = x + y\n",
    "    return t\n",
    "    print(\"Hello\")\n",
    "\n",
    "print(sub(12,11))"
   ]
  },
  {
   "cell_type": "code",
   "execution_count": 9,
   "id": "9f0447b4",
   "metadata": {},
   "outputs": [
    {
     "name": "stdout",
     "output_type": "stream",
     "text": [
      "1\n",
      "2\n"
     ]
    }
   ],
   "source": [
    "def pre():\n",
    "    print(1)\n",
    "    print(2)\n",
    "    return\n",
    "    print(3)\n",
    "    print(4)\n",
    "    \n",
    "pre()"
   ]
  },
  {
   "cell_type": "markdown",
   "id": "3dfc1121",
   "metadata": {},
   "source": [
    "# Default Arguments"
   ]
  },
  {
   "cell_type": "code",
   "execution_count": 11,
   "id": "bd0ea1c9",
   "metadata": {},
   "outputs": [
    {
     "data": {
      "text/plain": [
       "'HelloHelloHello'"
      ]
     },
     "execution_count": 11,
     "metadata": {},
     "output_type": "execute_result"
    }
   ],
   "source": [
    "\"Hello\" * 3"
   ]
  },
  {
   "cell_type": "code",
   "execution_count": 18,
   "id": "aa8048e3",
   "metadata": {},
   "outputs": [],
   "source": [
    "def say(msg, times=1):\n",
    "    print(msg * times)"
   ]
  },
  {
   "cell_type": "code",
   "execution_count": 13,
   "id": "4c6a0a05",
   "metadata": {},
   "outputs": [
    {
     "name": "stdout",
     "output_type": "stream",
     "text": [
      "Hi\n"
     ]
    }
   ],
   "source": [
    "say(\"Hi\")"
   ]
  },
  {
   "cell_type": "code",
   "execution_count": 14,
   "id": "f52e3603",
   "metadata": {},
   "outputs": [
    {
     "name": "stdout",
     "output_type": "stream",
     "text": [
      "HiHiHi\n"
     ]
    }
   ],
   "source": [
    "say(\"Hi\", 3)"
   ]
  },
  {
   "cell_type": "code",
   "execution_count": 15,
   "id": "36bfc818",
   "metadata": {},
   "outputs": [
    {
     "ename": "TypeError",
     "evalue": "say() missing 1 required positional argument: 'msg'",
     "output_type": "error",
     "traceback": [
      "\u001b[1;31m---------------------------------------------------------------------------\u001b[0m",
      "\u001b[1;31mTypeError\u001b[0m                                 Traceback (most recent call last)",
      "\u001b[1;32m<ipython-input-15-3a322e9040a0>\u001b[0m in \u001b[0;36m<module>\u001b[1;34m\u001b[0m\n\u001b[1;32m----> 1\u001b[1;33m \u001b[0msay\u001b[0m\u001b[1;33m(\u001b[0m\u001b[0mtimes\u001b[0m\u001b[1;33m=\u001b[0m\u001b[1;36m4\u001b[0m\u001b[1;33m)\u001b[0m\u001b[1;33m\u001b[0m\u001b[1;33m\u001b[0m\u001b[0m\n\u001b[0m",
      "\u001b[1;31mTypeError\u001b[0m: say() missing 1 required positional argument: 'msg'"
     ]
    }
   ],
   "source": [
    "say(times=4)"
   ]
  },
  {
   "cell_type": "code",
   "execution_count": 16,
   "id": "cd29077f",
   "metadata": {},
   "outputs": [
    {
     "ename": "SyntaxError",
     "evalue": "positional argument follows keyword argument (<ipython-input-16-bfb693be80d9>, line 1)",
     "output_type": "error",
     "traceback": [
      "\u001b[1;36m  File \u001b[1;32m\"<ipython-input-16-bfb693be80d9>\"\u001b[1;36m, line \u001b[1;32m1\u001b[0m\n\u001b[1;33m    say(times=4, \"Bye\")\u001b[0m\n\u001b[1;37m                 ^\u001b[0m\n\u001b[1;31mSyntaxError\u001b[0m\u001b[1;31m:\u001b[0m positional argument follows keyword argument\n"
     ]
    }
   ],
   "source": [
    "say(times=4, \"Bye\")"
   ]
  },
  {
   "cell_type": "code",
   "execution_count": 19,
   "id": "04a7da04",
   "metadata": {},
   "outputs": [
    {
     "name": "stdout",
     "output_type": "stream",
     "text": [
      "ByeByeByeBye\n"
     ]
    }
   ],
   "source": [
    "say(times=4, msg=\"Bye\")"
   ]
  },
  {
   "cell_type": "code",
   "execution_count": 17,
   "id": "09a245b5",
   "metadata": {},
   "outputs": [
    {
     "ename": "TypeError",
     "evalue": "say() missing 1 required positional argument: 'times'",
     "output_type": "error",
     "traceback": [
      "\u001b[1;31m---------------------------------------------------------------------------\u001b[0m",
      "\u001b[1;31mTypeError\u001b[0m                                 Traceback (most recent call last)",
      "\u001b[1;32m<ipython-input-17-050c4047a40e>\u001b[0m in \u001b[0;36m<module>\u001b[1;34m\u001b[0m\n\u001b[0;32m      2\u001b[0m     \u001b[0mprint\u001b[0m\u001b[1;33m(\u001b[0m\u001b[0mmsg\u001b[0m \u001b[1;33m*\u001b[0m \u001b[0mtimes\u001b[0m\u001b[1;33m)\u001b[0m\u001b[1;33m\u001b[0m\u001b[1;33m\u001b[0m\u001b[0m\n\u001b[0;32m      3\u001b[0m \u001b[1;33m\u001b[0m\u001b[0m\n\u001b[1;32m----> 4\u001b[1;33m \u001b[0msay\u001b[0m\u001b[1;33m(\u001b[0m\u001b[1;34m\"Hi\"\u001b[0m\u001b[1;33m)\u001b[0m\u001b[1;33m\u001b[0m\u001b[1;33m\u001b[0m\u001b[0m\n\u001b[0m",
      "\u001b[1;31mTypeError\u001b[0m: say() missing 1 required positional argument: 'times'"
     ]
    }
   ],
   "source": [
    "def say(msg, times):\n",
    "    print(msg * times)\n",
    "\n",
    "say(\"Hi\")"
   ]
  },
  {
   "cell_type": "code",
   "execution_count": 20,
   "id": "b9a1ac0a",
   "metadata": {},
   "outputs": [],
   "source": [
    "def said(a, b=5, c=10):\n",
    "    print(a)\n",
    "    print(b)\n",
    "    print(c)"
   ]
  },
  {
   "cell_type": "code",
   "execution_count": 21,
   "id": "f2a7a21e",
   "metadata": {},
   "outputs": [
    {
     "name": "stdout",
     "output_type": "stream",
     "text": [
      "3\n",
      "7\n",
      "10\n"
     ]
    }
   ],
   "source": [
    "said(3,7)"
   ]
  },
  {
   "cell_type": "code",
   "execution_count": 22,
   "id": "140174fe",
   "metadata": {},
   "outputs": [
    {
     "name": "stdout",
     "output_type": "stream",
     "text": [
      "25\n",
      "5\n",
      "24\n"
     ]
    }
   ],
   "source": [
    "said(25, c = 24)"
   ]
  },
  {
   "cell_type": "code",
   "execution_count": 23,
   "id": "de1d2957",
   "metadata": {},
   "outputs": [
    {
     "name": "stdout",
     "output_type": "stream",
     "text": [
      "100\n",
      "5\n",
      "50\n"
     ]
    }
   ],
   "source": [
    "said(c = 50, a = 100)"
   ]
  },
  {
   "cell_type": "code",
   "execution_count": 24,
   "id": "eaca5b5f",
   "metadata": {},
   "outputs": [
    {
     "name": "stdout",
     "output_type": "stream",
     "text": [
      "0\n"
     ]
    }
   ],
   "source": [
    "i = 0\n",
    "\n",
    "def change(i):\n",
    "    i += 1\n",
    "    return 1\n",
    "\n",
    "change(1)\n",
    "print(i)"
   ]
  },
  {
   "cell_type": "code",
   "execution_count": 25,
   "id": "d37d4aea",
   "metadata": {},
   "outputs": [
    {
     "name": "stdout",
     "output_type": "stream",
     "text": [
      "1\n"
     ]
    }
   ],
   "source": [
    "print(change(1))"
   ]
  },
  {
   "cell_type": "code",
   "execution_count": 26,
   "id": "fcd676e3",
   "metadata": {},
   "outputs": [
    {
     "name": "stdout",
     "output_type": "stream",
     "text": [
      "1\n"
     ]
    }
   ],
   "source": [
    "s = change(1)\n",
    "print(s)"
   ]
  },
  {
   "cell_type": "markdown",
   "id": "26dc1465",
   "metadata": {},
   "source": [
    "# Reference Function"
   ]
  },
  {
   "cell_type": "code",
   "execution_count": 1,
   "id": "745c406e",
   "metadata": {},
   "outputs": [
    {
     "name": "stdout",
     "output_type": "stream",
     "text": [
      "200\n"
     ]
    }
   ],
   "source": [
    "def multiply(x,y):\n",
    "    return x * y\n",
    "\n",
    "\n",
    "operator = multiply       # reference\n",
    "\n",
    "print(operator(10,20))\n",
    "#     multiply(10,20)"
   ]
  },
  {
   "cell_type": "code",
   "execution_count": 2,
   "id": "44c0f639",
   "metadata": {},
   "outputs": [
    {
     "name": "stdout",
     "output_type": "stream",
     "text": [
      "200\n"
     ]
    }
   ],
   "source": [
    "def multiply(x,y):\n",
    "    return x * y\n",
    "\n",
    "\n",
    "a = multiply       # reference\n",
    "\n",
    "print(a(10,20))\n",
    "#     multiply(10,20)"
   ]
  },
  {
   "cell_type": "code",
   "execution_count": 3,
   "id": "2f5cc56b",
   "metadata": {},
   "outputs": [
    {
     "data": {
      "text/plain": [
       "100"
      ]
     },
     "execution_count": 3,
     "metadata": {},
     "output_type": "execute_result"
    }
   ],
   "source": [
    "multiply(5,20)"
   ]
  },
  {
   "cell_type": "code",
   "execution_count": 4,
   "id": "aafc46a9",
   "metadata": {},
   "outputs": [
    {
     "name": "stdout",
     "output_type": "stream",
     "text": [
      "10\n",
      "10\n"
     ]
    }
   ],
   "source": [
    "a = 10\n",
    "b = a\n",
    "\n",
    "print(b)\n",
    "print(a)"
   ]
  },
  {
   "cell_type": "markdown",
   "id": "f721f591",
   "metadata": {},
   "source": [
    "# Functions as an Argument"
   ]
  },
  {
   "cell_type": "code",
   "execution_count": 5,
   "id": "456a42b8",
   "metadata": {},
   "outputs": [
    {
     "name": "stdout",
     "output_type": "stream",
     "text": [
      "30\n"
     ]
    }
   ],
   "source": [
    "def sub(x,y):\n",
    "    return x + y\n",
    "\n",
    "def add(blue, x, y):     # blue = sub,  x = 5,  y = 10\n",
    "    return blue(blue(x,y), blue(x,y))\n",
    "    #       sub(sub(5,10), sub(5,10))\n",
    "    #       sub(    15   ,    15    )\n",
    "    #                   30\n",
    "\n",
    "a = 5\n",
    "b = 10\n",
    "\n",
    "print(add(sub, a, b))"
   ]
  },
  {
   "cell_type": "code",
   "execution_count": 6,
   "id": "c5905a9c",
   "metadata": {},
   "outputs": [
    {
     "name": "stdout",
     "output_type": "stream",
     "text": [
      "49\n"
     ]
    }
   ],
   "source": [
    "def square(x):\n",
    "    return x * x\n",
    "\n",
    "def test(blue, x):\n",
    "    print(blue(x))\n",
    "    \n",
    "test(square, 7)"
   ]
  },
  {
   "cell_type": "code",
   "execution_count": 7,
   "id": "4afa1fc7",
   "metadata": {},
   "outputs": [
    {
     "name": "stdout",
     "output_type": "stream",
     "text": [
      "3\n",
      "1\n"
     ]
    }
   ],
   "source": [
    "def green(red, a):\n",
    "    print(red(a))\n",
    "    \n",
    "green(max,[1,2,3])\n",
    "green(min,[1,2,3])"
   ]
  },
  {
   "cell_type": "code",
   "execution_count": 8,
   "id": "5915da82",
   "metadata": {},
   "outputs": [
    {
     "name": "stdout",
     "output_type": "stream",
     "text": [
      "0\n"
     ]
    }
   ],
   "source": [
    "def printn(x):\n",
    "    for i in range(x):\n",
    "        print(i)\n",
    "        return\n",
    "    \n",
    "printn(10)"
   ]
  },
  {
   "cell_type": "markdown",
   "id": "8ea6d5ec",
   "metadata": {},
   "source": [
    "# Doc String\n",
    "\n",
    "Documentation String"
   ]
  },
  {
   "cell_type": "code",
   "execution_count": 9,
   "id": "9ddac470",
   "metadata": {},
   "outputs": [
    {
     "name": "stdout",
     "output_type": "stream",
     "text": [
      "Help on built-in function max in module builtins:\n",
      "\n",
      "max(...)\n",
      "    max(iterable, *[, default=obj, key=func]) -> value\n",
      "    max(arg1, arg2, *args, *[, key=func]) -> value\n",
      "    \n",
      "    With a single iterable argument, return its biggest item. The\n",
      "    default keyword-only argument specifies an object to return if\n",
      "    the provided iterable is empty.\n",
      "    With two or more arguments, return the largest argument.\n",
      "\n"
     ]
    }
   ],
   "source": [
    "help(max)"
   ]
  },
  {
   "cell_type": "code",
   "execution_count": 10,
   "id": "24549292",
   "metadata": {},
   "outputs": [
    {
     "name": "stdout",
     "output_type": "stream",
     "text": [
      "Help on built-in function print in module builtins:\n",
      "\n",
      "print(...)\n",
      "    print(value, ..., sep=' ', end='\\n', file=sys.stdout, flush=False)\n",
      "    \n",
      "    Prints the values to a stream, or to sys.stdout by default.\n",
      "    Optional keyword arguments:\n",
      "    file:  a file-like object (stream); defaults to the current sys.stdout.\n",
      "    sep:   string inserted between values, default a space.\n",
      "    end:   string appended after the last value, default a newline.\n",
      "    flush: whether to forcibly flush the stream.\n",
      "\n"
     ]
    }
   ],
   "source": [
    "help(print)"
   ]
  },
  {
   "cell_type": "code",
   "execution_count": 11,
   "id": "26d24104",
   "metadata": {},
   "outputs": [],
   "source": [
    "def indore():\n",
    "    \"\"\"\n",
    "    this function will return hello string\n",
    "    and also print 5\n",
    "    \"\"\"\n",
    "    print(\"Hello\")\n",
    "    print(5)"
   ]
  },
  {
   "cell_type": "code",
   "execution_count": 12,
   "id": "b82898ca",
   "metadata": {},
   "outputs": [
    {
     "name": "stdout",
     "output_type": "stream",
     "text": [
      "Hello\n",
      "5\n"
     ]
    }
   ],
   "source": [
    "indore()"
   ]
  },
  {
   "cell_type": "code",
   "execution_count": 13,
   "id": "bec26e05",
   "metadata": {},
   "outputs": [
    {
     "name": "stdout",
     "output_type": "stream",
     "text": [
      "Help on function indore in module __main__:\n",
      "\n",
      "indore()\n",
      "    this function will return hello string\n",
      "    and also print 5\n",
      "\n"
     ]
    }
   ],
   "source": [
    "help(indore)"
   ]
  },
  {
   "cell_type": "code",
   "execution_count": 14,
   "id": "1c6e4d00",
   "metadata": {},
   "outputs": [
    {
     "name": "stdout",
     "output_type": "stream",
     "text": [
      "\n",
      "    this function will return hello string\n",
      "    and also print 5\n",
      "    \n"
     ]
    }
   ],
   "source": [
    "print(indore.__doc__)      # dunders /  magic methods"
   ]
  },
  {
   "cell_type": "code",
   "execution_count": 15,
   "id": "44ab1fa2",
   "metadata": {},
   "outputs": [
    {
     "name": "stdout",
     "output_type": "stream",
     "text": [
      "Hello\n",
      "5\n"
     ]
    }
   ],
   "source": [
    "indore()"
   ]
  },
  {
   "cell_type": "markdown",
   "id": "9be457bf",
   "metadata": {},
   "source": [
    "# Lambda Function\n",
    "\n",
    "anonymous function"
   ]
  },
  {
   "cell_type": "code",
   "execution_count": null,
   "id": "79406558",
   "metadata": {},
   "outputs": [],
   "source": [
    "lambda arguments : expression"
   ]
  },
  {
   "cell_type": "code",
   "execution_count": 16,
   "id": "30728f8a",
   "metadata": {},
   "outputs": [],
   "source": [
    "def cube(y):\n",
    "    return y*y*y\n",
    "\n",
    "g = lambda x: x*x*x"
   ]
  },
  {
   "cell_type": "code",
   "execution_count": 17,
   "id": "66818e35",
   "metadata": {},
   "outputs": [
    {
     "name": "stdout",
     "output_type": "stream",
     "text": [
      "64\n"
     ]
    }
   ],
   "source": [
    "print(cube(4))"
   ]
  },
  {
   "cell_type": "code",
   "execution_count": 18,
   "id": "acfdb043",
   "metadata": {},
   "outputs": [
    {
     "name": "stdout",
     "output_type": "stream",
     "text": [
      "343\n"
     ]
    }
   ],
   "source": [
    "print(g(7))"
   ]
  },
  {
   "cell_type": "markdown",
   "id": "01c94db0",
   "metadata": {},
   "source": [
    "# Filter Function"
   ]
  },
  {
   "cell_type": "code",
   "execution_count": 21,
   "id": "bb4faa37",
   "metadata": {},
   "outputs": [
    {
     "name": "stdout",
     "output_type": "stream",
     "text": [
      "[22, 44]\n"
     ]
    }
   ],
   "source": [
    "n = [11,22,33,44,55]\n",
    "\n",
    "r = list(filter(lambda x: x%2 == 0 , n))\n",
    "\n",
    "print(r)"
   ]
  },
  {
   "cell_type": "code",
   "execution_count": 22,
   "id": "517ebe3b",
   "metadata": {},
   "outputs": [
    {
     "name": "stdout",
     "output_type": "stream",
     "text": [
      "['A', 'C']\n"
     ]
    }
   ],
   "source": [
    "n = [\"A\",\"B\",\"C\"]\n",
    "\n",
    "r = list(filter(lambda x: x == \"A\" or x == \"C\" , n))\n",
    "\n",
    "print(r)"
   ]
  },
  {
   "cell_type": "markdown",
   "id": "3ffcc2bf",
   "metadata": {},
   "source": [
    "# map function"
   ]
  },
  {
   "cell_type": "code",
   "execution_count": 23,
   "id": "1ada72ef",
   "metadata": {},
   "outputs": [
    {
     "name": "stdout",
     "output_type": "stream",
     "text": [
      "[6, 7, 8, 9, 10]\n"
     ]
    }
   ],
   "source": [
    "n = [1,2,3,4,5]\n",
    "\n",
    "r = list(map(lambda x: x + 5, n))\n",
    "\n",
    "print(r)"
   ]
  },
  {
   "cell_type": "code",
   "execution_count": null,
   "id": "2833b344",
   "metadata": {},
   "outputs": [],
   "source": []
  }
 ],
 "metadata": {
  "kernelspec": {
   "display_name": "Python 3",
   "language": "python",
   "name": "python3"
  },
  "language_info": {
   "codemirror_mode": {
    "name": "ipython",
    "version": 3
   },
   "file_extension": ".py",
   "mimetype": "text/x-python",
   "name": "python",
   "nbconvert_exporter": "python",
   "pygments_lexer": "ipython3",
   "version": "3.8.10"
  }
 },
 "nbformat": 4,
 "nbformat_minor": 5
}
