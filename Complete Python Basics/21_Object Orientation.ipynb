{
 "cells": [
  {
   "cell_type": "markdown",
   "id": "f7f4e8c4",
   "metadata": {},
   "source": [
    "# Object Orientated Programming"
   ]
  },
  {
   "cell_type": "markdown",
   "id": "e4ad2708",
   "metadata": {},
   "source": [
    "7 properties of OOPs\n",
    "\n",
    "1. Class\n",
    "            Updated version of structure\n",
    "            Collection of variables and methods.\n",
    "            Class is a blueprint.\n",
    "\n",
    "2. Object\n",
    "            Run time or real time entity.\n",
    "            hash code - id\n",
    "           \n",
    "3. Abstraction and Encapsulation\n",
    "            Abstraction - Showing only essential features without showing any background details.\n",
    "            Encapsulation - wrapping up of data in a single unit.\n",
    "\n",
    "4. Inheritance\n",
    "            Acquiring Properties of one class into another.\n",
    "            Code reuse.\n",
    "            - Single Level\n",
    "            - Multi Level\n",
    "            - Hierarchical\n",
    "            - Multiple\n",
    "            - Hybrid\n",
    "\n",
    "5. Polymorphism\n",
    "            same name multiple fuctionalities.\n",
    "            - Method Overloading\n",
    "            - Method Overriding\n",
    "            add()\n",
    "            add(x,y)\n",
    "            add(a,b,c)\n",
    "            add()\n",
    "\n",
    "6. Dynamic Memory Allocation\n",
    "            Run time memory allocation\n",
    "           \n",
    "           \n",
    "7. Message passing\n",
    "            Communication between objects"
   ]
  },
  {
   "cell_type": "code",
   "execution_count": null,
   "id": "d29fcaf6",
   "metadata": {},
   "outputs": [],
   "source": [
    "int a = 10;\n",
    "\n",
    "struct student{\n",
    "    int a;\n",
    "    float p;\n",
    "    char f;\n",
    "}\n",
    "\n",
    "struct student s1;\n",
    "           int a;"
   ]
  },
  {
   "cell_type": "code",
   "execution_count": null,
   "id": "0a1d53fd",
   "metadata": {},
   "outputs": [],
   "source": []
  },
  {
   "cell_type": "code",
   "execution_count": null,
   "id": "0b19b42b",
   "metadata": {},
   "outputs": [],
   "source": []
  }
 ],
 "metadata": {
  "kernelspec": {
   "display_name": "Python 3",
   "language": "python",
   "name": "python3"
  },
  "language_info": {
   "codemirror_mode": {
    "name": "ipython",
    "version": 3
   },
   "file_extension": ".py",
   "mimetype": "text/x-python",
   "name": "python",
   "nbconvert_exporter": "python",
   "pygments_lexer": "ipython3",
   "version": "3.7.8 (tags/v3.7.8:4b47a5b6ba, Jun 28 2020, 08:53:46) [MSC v.1916 64 bit (AMD64)]"
  },
  "vscode": {
   "interpreter": {
    "hash": "a23257344542c70b70a498512f46db94a3a7f44d371a6893c689768adca66338"
   }
  }
 },
 "nbformat": 4,
 "nbformat_minor": 5
}
