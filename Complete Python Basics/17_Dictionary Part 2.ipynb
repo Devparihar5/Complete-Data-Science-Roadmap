{
 "cells": [
  {
   "cell_type": "markdown",
   "id": "5e2b457e",
   "metadata": {},
   "source": [
    "# Dictionary"
   ]
  },
  {
   "cell_type": "code",
   "execution_count": null,
   "id": "b193a757",
   "metadata": {},
   "outputs": [],
   "source": [
    "l = [10,20,30]\n",
    "#    0  1  2"
   ]
  },
  {
   "cell_type": "code",
   "execution_count": null,
   "id": "9940b85e",
   "metadata": {},
   "outputs": [],
   "source": [
    "hashing\n",
    "\n",
    "55 - 55%10 - 5\n",
    "\n",
    "40 - 40%10 - 0\n",
    "\n"
   ]
  },
  {
   "cell_type": "code",
   "execution_count": null,
   "id": "69bcf8d7",
   "metadata": {},
   "outputs": [],
   "source": [
    "[40, , , , ,55]"
   ]
  },
  {
   "cell_type": "code",
   "execution_count": null,
   "id": "a37b4015",
   "metadata": {},
   "outputs": [],
   "source": [
    "55"
   ]
  },
  {
   "cell_type": "code",
   "execution_count": null,
   "id": "4a6cfd90",
   "metadata": {},
   "outputs": [],
   "source": [
    "# collision\n",
    "\n",
    "65 - 65%10 - 5"
   ]
  },
  {
   "cell_type": "code",
   "execution_count": null,
   "id": "eb38594d",
   "metadata": {},
   "outputs": [],
   "source": [
    "[40, , , , ,55]\n",
    "             |\n",
    "            65\n",
    "             |\n",
    "            45"
   ]
  },
  {
   "cell_type": "code",
   "execution_count": null,
   "id": "b708fe70",
   "metadata": {},
   "outputs": [],
   "source": [
    "key: value\n",
    "5 : 65\n",
    "3 : 45"
   ]
  },
  {
   "cell_type": "code",
   "execution_count": 1,
   "id": "7f653974",
   "metadata": {},
   "outputs": [
    {
     "name": "stdout",
     "output_type": "stream",
     "text": [
      "{'A': 'Indore', 5: 65, 'goa': 45}\n"
     ]
    }
   ],
   "source": [
    "# unordered data structure\n",
    "# { key: value}\n",
    "d = {\"A\":\"Indore\", 5: 65, \"goa\": 45}\n",
    "\n",
    "print(d)"
   ]
  },
  {
   "cell_type": "code",
   "execution_count": 2,
   "id": "78526eb5",
   "metadata": {},
   "outputs": [
    {
     "name": "stdout",
     "output_type": "stream",
     "text": [
      "45\n"
     ]
    }
   ],
   "source": [
    "print(d['goa'])"
   ]
  },
  {
   "cell_type": "code",
   "execution_count": 3,
   "id": "8746f84c",
   "metadata": {},
   "outputs": [
    {
     "ename": "KeyError",
     "evalue": "45",
     "output_type": "error",
     "traceback": [
      "\u001b[1;31m---------------------------------------------------------------------------\u001b[0m",
      "\u001b[1;31mKeyError\u001b[0m                                  Traceback (most recent call last)",
      "\u001b[1;32m<ipython-input-3-9d9ad480aa99>\u001b[0m in \u001b[0;36m<module>\u001b[1;34m\u001b[0m\n\u001b[1;32m----> 1\u001b[1;33m \u001b[0mprint\u001b[0m\u001b[1;33m(\u001b[0m\u001b[0md\u001b[0m\u001b[1;33m[\u001b[0m\u001b[1;36m45\u001b[0m\u001b[1;33m]\u001b[0m\u001b[1;33m)\u001b[0m\u001b[1;33m\u001b[0m\u001b[1;33m\u001b[0m\u001b[0m\n\u001b[0m",
      "\u001b[1;31mKeyError\u001b[0m: 45"
     ]
    }
   ],
   "source": [
    "print(d[45])"
   ]
  },
  {
   "cell_type": "code",
   "execution_count": 4,
   "id": "0e0a9e85",
   "metadata": {},
   "outputs": [
    {
     "name": "stdout",
     "output_type": "stream",
     "text": [
      "65\n"
     ]
    }
   ],
   "source": [
    "print(d[5])"
   ]
  },
  {
   "cell_type": "code",
   "execution_count": 5,
   "id": "0786815c",
   "metadata": {},
   "outputs": [
    {
     "ename": "KeyError",
     "evalue": "'5'",
     "output_type": "error",
     "traceback": [
      "\u001b[1;31m---------------------------------------------------------------------------\u001b[0m",
      "\u001b[1;31mKeyError\u001b[0m                                  Traceback (most recent call last)",
      "\u001b[1;32m<ipython-input-5-10a63781ac18>\u001b[0m in \u001b[0;36m<module>\u001b[1;34m\u001b[0m\n\u001b[1;32m----> 1\u001b[1;33m \u001b[0mprint\u001b[0m\u001b[1;33m(\u001b[0m\u001b[0md\u001b[0m\u001b[1;33m[\u001b[0m\u001b[1;34m'5'\u001b[0m\u001b[1;33m]\u001b[0m\u001b[1;33m)\u001b[0m\u001b[1;33m\u001b[0m\u001b[1;33m\u001b[0m\u001b[0m\n\u001b[0m",
      "\u001b[1;31mKeyError\u001b[0m: '5'"
     ]
    }
   ],
   "source": [
    "print(d['5'])"
   ]
  },
  {
   "cell_type": "code",
   "execution_count": 6,
   "id": "25a6334e",
   "metadata": {},
   "outputs": [
    {
     "name": "stdout",
     "output_type": "stream",
     "text": [
      "<class 'dict'>\n"
     ]
    }
   ],
   "source": [
    "print(type(d))"
   ]
  },
  {
   "cell_type": "code",
   "execution_count": 7,
   "id": "012a7da1",
   "metadata": {},
   "outputs": [
    {
     "name": "stdout",
     "output_type": "stream",
     "text": [
      "<class 'int'>\n"
     ]
    }
   ],
   "source": [
    "print(type(d['goa']))"
   ]
  },
  {
   "cell_type": "code",
   "execution_count": 8,
   "id": "f2ab976f",
   "metadata": {},
   "outputs": [
    {
     "name": "stdout",
     "output_type": "stream",
     "text": [
      "{}\n",
      "<class 'dict'>\n"
     ]
    }
   ],
   "source": [
    "d = {}\n",
    "print(d)\n",
    "print(type(d))"
   ]
  },
  {
   "cell_type": "code",
   "execution_count": 9,
   "id": "72d8d61b",
   "metadata": {},
   "outputs": [
    {
     "name": "stdout",
     "output_type": "stream",
     "text": [
      "[255, 0, 0]\n"
     ]
    }
   ],
   "source": [
    "color = {\n",
    "    \"red\":[255,0,0],\n",
    "    \"green\":[0,255,0],\n",
    "    \"blue\":[0,0,255]\n",
    "}\n",
    "print(color['red'])"
   ]
  },
  {
   "cell_type": "code",
   "execution_count": 10,
   "id": "8d97f30f",
   "metadata": {},
   "outputs": [
    {
     "ename": "KeyError",
     "evalue": "'yellow'",
     "output_type": "error",
     "traceback": [
      "\u001b[1;31m---------------------------------------------------------------------------\u001b[0m",
      "\u001b[1;31mKeyError\u001b[0m                                  Traceback (most recent call last)",
      "\u001b[1;32m<ipython-input-10-5341b40bca8b>\u001b[0m in \u001b[0;36m<module>\u001b[1;34m\u001b[0m\n\u001b[1;32m----> 1\u001b[1;33m \u001b[0mcolor\u001b[0m\u001b[1;33m[\u001b[0m\u001b[1;34m'yellow'\u001b[0m\u001b[1;33m]\u001b[0m\u001b[1;33m\u001b[0m\u001b[1;33m\u001b[0m\u001b[0m\n\u001b[0m",
      "\u001b[1;31mKeyError\u001b[0m: 'yellow'"
     ]
    }
   ],
   "source": [
    "color['yellow']"
   ]
  },
  {
   "cell_type": "code",
   "execution_count": 11,
   "id": "131fd5aa",
   "metadata": {},
   "outputs": [
    {
     "name": "stdout",
     "output_type": "stream",
     "text": [
      "<class 'list'>\n"
     ]
    }
   ],
   "source": [
    "color = {\n",
    "    \"red\":[255,0,0],\n",
    "    \"green\":[0,255,0],\n",
    "    \"blue\":[0,0,255]\n",
    "}\n",
    "\n",
    "print(type(color['red']))"
   ]
  },
  {
   "cell_type": "code",
   "execution_count": 12,
   "id": "dd0b67b0",
   "metadata": {},
   "outputs": [
    {
     "name": "stdout",
     "output_type": "stream",
     "text": [
      "255\n"
     ]
    }
   ],
   "source": [
    "print(color['red'][0])"
   ]
  },
  {
   "cell_type": "code",
   "execution_count": 13,
   "id": "11b9e931",
   "metadata": {},
   "outputs": [
    {
     "name": "stdout",
     "output_type": "stream",
     "text": [
      "255\n"
     ]
    }
   ],
   "source": [
    "x = color['red']\n",
    "\n",
    "print(x[0])"
   ]
  },
  {
   "cell_type": "code",
   "execution_count": 14,
   "id": "9bba1f3e",
   "metadata": {},
   "outputs": [
    {
     "name": "stdout",
     "output_type": "stream",
     "text": [
      "1\n"
     ]
    }
   ],
   "source": [
    "d = {1:1, 2:2, 3:4}\n",
    "\n",
    "print(d[1])"
   ]
  },
  {
   "cell_type": "code",
   "execution_count": 15,
   "id": "96d27da0",
   "metadata": {},
   "outputs": [
    {
     "ename": "TypeError",
     "evalue": "unhashable type: 'list'",
     "output_type": "error",
     "traceback": [
      "\u001b[1;31m---------------------------------------------------------------------------\u001b[0m",
      "\u001b[1;31mTypeError\u001b[0m                                 Traceback (most recent call last)",
      "\u001b[1;32m<ipython-input-15-3d8cc47c5cb3>\u001b[0m in \u001b[0;36m<module>\u001b[1;34m\u001b[0m\n\u001b[1;32m----> 1\u001b[1;33m \u001b[0md\u001b[0m \u001b[1;33m=\u001b[0m \u001b[1;33m{\u001b[0m\u001b[1;33m[\u001b[0m\u001b[1;36m1\u001b[0m\u001b[1;33m,\u001b[0m\u001b[1;36m2\u001b[0m\u001b[1;33m]\u001b[0m\u001b[1;33m:\u001b[0m\u001b[1;36m1\u001b[0m\u001b[1;33m,\u001b[0m \u001b[1;36m2\u001b[0m\u001b[1;33m:\u001b[0m\u001b[1;36m2\u001b[0m\u001b[1;33m,\u001b[0m \u001b[1;36m3\u001b[0m\u001b[1;33m:\u001b[0m\u001b[1;36m4\u001b[0m\u001b[1;33m}\u001b[0m\u001b[1;33m\u001b[0m\u001b[1;33m\u001b[0m\u001b[0m\n\u001b[0m\u001b[0;32m      2\u001b[0m \u001b[1;33m\u001b[0m\u001b[0m\n\u001b[0;32m      3\u001b[0m \u001b[0mprint\u001b[0m\u001b[1;33m(\u001b[0m\u001b[0md\u001b[0m\u001b[1;33m[\u001b[0m\u001b[1;36m1\u001b[0m\u001b[1;33m]\u001b[0m\u001b[1;33m)\u001b[0m\u001b[1;33m\u001b[0m\u001b[1;33m\u001b[0m\u001b[0m\n",
      "\u001b[1;31mTypeError\u001b[0m: unhashable type: 'list'"
     ]
    }
   ],
   "source": [
    "d = {[1,2]:1, 2:2, 3:4}\n",
    "\n",
    "print(d[1])            # key should not be mutable\n",
    "#  key should be immutable"
   ]
  },
  {
   "cell_type": "markdown",
   "id": "93ccce14",
   "metadata": {},
   "source": [
    "# Dictionary functions"
   ]
  },
  {
   "cell_type": "code",
   "execution_count": 16,
   "id": "c9fdbbd8",
   "metadata": {},
   "outputs": [
    {
     "name": "stdout",
     "output_type": "stream",
     "text": [
      "4\n"
     ]
    }
   ],
   "source": [
    "d = {1:1, 2:4, 3:9, 4:16}\n",
    "\n",
    "print(len(d))"
   ]
  },
  {
   "cell_type": "code",
   "execution_count": 17,
   "id": "93a8a2ea",
   "metadata": {},
   "outputs": [
    {
     "data": {
      "text/plain": [
       "'{1: 1, 2: 4, 3: 9, 4: 16}'"
      ]
     },
     "execution_count": 17,
     "metadata": {},
     "output_type": "execute_result"
    }
   ],
   "source": [
    "str(d)"
   ]
  },
  {
   "cell_type": "code",
   "execution_count": 18,
   "id": "098aaa07",
   "metadata": {},
   "outputs": [
    {
     "name": "stdout",
     "output_type": "stream",
     "text": [
      "{\n"
     ]
    }
   ],
   "source": [
    "s = str(d)\n",
    "print(s[0])"
   ]
  },
  {
   "cell_type": "code",
   "execution_count": 20,
   "id": "d4c71e88",
   "metadata": {},
   "outputs": [
    {
     "name": "stdout",
     "output_type": "stream",
     "text": [
      "10\n"
     ]
    }
   ],
   "source": [
    "d = {1:1, 2:4, 3:9, 4:16}\n",
    "\n",
    "print(sum(d))"
   ]
  },
  {
   "cell_type": "code",
   "execution_count": 21,
   "id": "d1a101dc",
   "metadata": {},
   "outputs": [
    {
     "ename": "TypeError",
     "evalue": "unsupported operand type(s) for +: 'int' and 'str'",
     "output_type": "error",
     "traceback": [
      "\u001b[1;31m---------------------------------------------------------------------------\u001b[0m",
      "\u001b[1;31mTypeError\u001b[0m                                 Traceback (most recent call last)",
      "\u001b[1;32m<ipython-input-21-b413fc134292>\u001b[0m in \u001b[0;36m<module>\u001b[1;34m\u001b[0m\n\u001b[0;32m      1\u001b[0m \u001b[0md\u001b[0m \u001b[1;33m=\u001b[0m \u001b[1;33m{\u001b[0m\u001b[1;36m1\u001b[0m\u001b[1;33m:\u001b[0m\u001b[1;36m1\u001b[0m\u001b[1;33m,\u001b[0m \u001b[1;34m\"B\"\u001b[0m\u001b[1;33m:\u001b[0m\u001b[1;36m4\u001b[0m\u001b[1;33m,\u001b[0m \u001b[1;36m3\u001b[0m\u001b[1;33m:\u001b[0m\u001b[1;36m9\u001b[0m\u001b[1;33m,\u001b[0m \u001b[1;36m4\u001b[0m\u001b[1;33m:\u001b[0m\u001b[1;36m16\u001b[0m\u001b[1;33m}\u001b[0m\u001b[1;33m\u001b[0m\u001b[1;33m\u001b[0m\u001b[0m\n\u001b[0;32m      2\u001b[0m \u001b[1;33m\u001b[0m\u001b[0m\n\u001b[1;32m----> 3\u001b[1;33m \u001b[0mprint\u001b[0m\u001b[1;33m(\u001b[0m\u001b[0msum\u001b[0m\u001b[1;33m(\u001b[0m\u001b[0md\u001b[0m\u001b[1;33m)\u001b[0m\u001b[1;33m)\u001b[0m\u001b[1;33m\u001b[0m\u001b[1;33m\u001b[0m\u001b[0m\n\u001b[0m",
      "\u001b[1;31mTypeError\u001b[0m: unsupported operand type(s) for +: 'int' and 'str'"
     ]
    }
   ],
   "source": [
    "d = {1:1, \"B\":4, 3:9, 4:16}\n",
    "\n",
    "print(sum(d))"
   ]
  },
  {
   "cell_type": "code",
   "execution_count": 23,
   "id": "889b5484",
   "metadata": {},
   "outputs": [
    {
     "name": "stdout",
     "output_type": "stream",
     "text": [
      "4\n"
     ]
    }
   ],
   "source": [
    "d = {1:1, 2:4, 3:9, 4:16}\n",
    "\n",
    "print(max(d))"
   ]
  },
  {
   "cell_type": "code",
   "execution_count": 24,
   "id": "0a19e0ed",
   "metadata": {},
   "outputs": [
    {
     "ename": "TypeError",
     "evalue": "'>' not supported between instances of 'str' and 'int'",
     "output_type": "error",
     "traceback": [
      "\u001b[1;31m---------------------------------------------------------------------------\u001b[0m",
      "\u001b[1;31mTypeError\u001b[0m                                 Traceback (most recent call last)",
      "\u001b[1;32m<ipython-input-24-6441419caa8e>\u001b[0m in \u001b[0;36m<module>\u001b[1;34m\u001b[0m\n\u001b[0;32m      1\u001b[0m \u001b[0md\u001b[0m \u001b[1;33m=\u001b[0m \u001b[1;33m{\u001b[0m\u001b[1;36m1\u001b[0m\u001b[1;33m:\u001b[0m\u001b[1;36m1\u001b[0m\u001b[1;33m,\u001b[0m \u001b[1;34m\"D\"\u001b[0m\u001b[1;33m:\u001b[0m\u001b[1;36m4\u001b[0m\u001b[1;33m,\u001b[0m \u001b[1;36m3\u001b[0m\u001b[1;33m:\u001b[0m\u001b[1;36m9\u001b[0m\u001b[1;33m,\u001b[0m \u001b[1;36m4\u001b[0m\u001b[1;33m:\u001b[0m\u001b[1;36m16\u001b[0m\u001b[1;33m}\u001b[0m\u001b[1;33m\u001b[0m\u001b[1;33m\u001b[0m\u001b[0m\n\u001b[0;32m      2\u001b[0m \u001b[1;33m\u001b[0m\u001b[0m\n\u001b[1;32m----> 3\u001b[1;33m \u001b[0mprint\u001b[0m\u001b[1;33m(\u001b[0m\u001b[0mmax\u001b[0m\u001b[1;33m(\u001b[0m\u001b[0md\u001b[0m\u001b[1;33m)\u001b[0m\u001b[1;33m)\u001b[0m\u001b[1;33m\u001b[0m\u001b[1;33m\u001b[0m\u001b[0m\n\u001b[0m",
      "\u001b[1;31mTypeError\u001b[0m: '>' not supported between instances of 'str' and 'int'"
     ]
    }
   ],
   "source": [
    "d = {1:1, \"D\":4, 3:9, 4:16}\n",
    "\n",
    "print(max(d))"
   ]
  },
  {
   "cell_type": "markdown",
   "id": "f93fb28f",
   "metadata": {},
   "source": [
    "# Dictionary Methods"
   ]
  },
  {
   "cell_type": "code",
   "execution_count": 25,
   "id": "60fb7bfc",
   "metadata": {},
   "outputs": [],
   "source": [
    "p = {1: \"Apple\", \"orange\": [2,3,4], \"2\": 3}\n"
   ]
  },
  {
   "cell_type": "markdown",
   "id": "40f86ecf",
   "metadata": {},
   "source": [
    "#### get"
   ]
  },
  {
   "cell_type": "code",
   "execution_count": 26,
   "id": "1bcf6859",
   "metadata": {},
   "outputs": [
    {
     "name": "stdout",
     "output_type": "stream",
     "text": [
      "[2, 3, 4]\n"
     ]
    }
   ],
   "source": [
    "print(p.get(\"orange\"))"
   ]
  },
  {
   "cell_type": "code",
   "execution_count": 27,
   "id": "9ddd8fe2",
   "metadata": {},
   "outputs": [
    {
     "name": "stdout",
     "output_type": "stream",
     "text": [
      "None\n"
     ]
    }
   ],
   "source": [
    "print(p.get(7))"
   ]
  },
  {
   "cell_type": "code",
   "execution_count": null,
   "id": "8aadfb3a",
   "metadata": {},
   "outputs": [],
   "source": [
    "None -> NULL"
   ]
  },
  {
   "cell_type": "code",
   "execution_count": 28,
   "id": "20dca85e",
   "metadata": {},
   "outputs": [
    {
     "name": "stdout",
     "output_type": "stream",
     "text": [
      "Apple\n"
     ]
    }
   ],
   "source": [
    "print(p.get(1, \"Key not found\"))"
   ]
  },
  {
   "cell_type": "code",
   "execution_count": 29,
   "id": "0dc2c88a",
   "metadata": {},
   "outputs": [
    {
     "name": "stdout",
     "output_type": "stream",
     "text": [
      "Key not found\n"
     ]
    }
   ],
   "source": [
    "print(p.get(10, \"Key not found\"))"
   ]
  },
  {
   "cell_type": "code",
   "execution_count": 30,
   "id": "f4174abb",
   "metadata": {},
   "outputs": [
    {
     "ename": "KeyError",
     "evalue": "2",
     "output_type": "error",
     "traceback": [
      "\u001b[1;31m---------------------------------------------------------------------------\u001b[0m",
      "\u001b[1;31mKeyError\u001b[0m                                  Traceback (most recent call last)",
      "\u001b[1;32m<ipython-input-30-21c545b39f61>\u001b[0m in \u001b[0;36m<module>\u001b[1;34m\u001b[0m\n\u001b[1;32m----> 1\u001b[1;33m \u001b[0mp\u001b[0m\u001b[1;33m[\u001b[0m\u001b[1;36m2\u001b[0m\u001b[1;33m]\u001b[0m\u001b[1;33m\u001b[0m\u001b[1;33m\u001b[0m\u001b[0m\n\u001b[0m",
      "\u001b[1;31mKeyError\u001b[0m: 2"
     ]
    }
   ],
   "source": [
    "p[2]"
   ]
  },
  {
   "cell_type": "code",
   "execution_count": 31,
   "id": "fcae3708",
   "metadata": {},
   "outputs": [
    {
     "data": {
      "text/plain": [
       "3"
      ]
     },
     "execution_count": 31,
     "metadata": {},
     "output_type": "execute_result"
    }
   ],
   "source": [
    "p['2']"
   ]
  },
  {
   "cell_type": "code",
   "execution_count": 32,
   "id": "77c25a35",
   "metadata": {},
   "outputs": [
    {
     "name": "stdout",
     "output_type": "stream",
     "text": [
      "8\n"
     ]
    }
   ],
   "source": [
    "f = {1:1, 2:1, 3:2, 4:3}\n",
    "\n",
    "print(f.get(4,0) + f.get(7,5))\n",
    "#         3      +      5"
   ]
  },
  {
   "cell_type": "markdown",
   "id": "60a66aa2",
   "metadata": {},
   "source": [
    "#### clear"
   ]
  },
  {
   "cell_type": "code",
   "execution_count": 33,
   "id": "48818343",
   "metadata": {},
   "outputs": [
    {
     "name": "stdout",
     "output_type": "stream",
     "text": [
      "{1: 'A', 2: 'Zara'}\n"
     ]
    }
   ],
   "source": [
    "r = {1:\"A\", 2:\"Zara\"}\n",
    "print(r)"
   ]
  },
  {
   "cell_type": "code",
   "execution_count": 34,
   "id": "a7e6d522",
   "metadata": {},
   "outputs": [
    {
     "name": "stdout",
     "output_type": "stream",
     "text": [
      "{}\n"
     ]
    }
   ],
   "source": [
    "r.clear()\n",
    "print(r)"
   ]
  },
  {
   "cell_type": "markdown",
   "id": "25e4d0eb",
   "metadata": {},
   "source": [
    "#### keys"
   ]
  },
  {
   "cell_type": "code",
   "execution_count": 35,
   "id": "08b8238c",
   "metadata": {},
   "outputs": [
    {
     "name": "stdout",
     "output_type": "stream",
     "text": [
      "dict_keys([1, 2, 3, 'raw'])\n"
     ]
    }
   ],
   "source": [
    "r = {1:\"A\", 2:\"Zara\", 3:\"goa\", \"raw\":77}\n",
    "\n",
    "print(r.keys())"
   ]
  },
  {
   "cell_type": "code",
   "execution_count": 36,
   "id": "3bb70fbf",
   "metadata": {},
   "outputs": [
    {
     "name": "stdout",
     "output_type": "stream",
     "text": [
      "[1, 2, 3, 'raw']\n"
     ]
    }
   ],
   "source": [
    "print(list(r.keys()))"
   ]
  },
  {
   "cell_type": "markdown",
   "id": "2c07fcd8",
   "metadata": {},
   "source": [
    "#### values"
   ]
  },
  {
   "cell_type": "code",
   "execution_count": 37,
   "id": "1b1cc629",
   "metadata": {},
   "outputs": [
    {
     "name": "stdout",
     "output_type": "stream",
     "text": [
      "dict_values(['A', 'Zara', 'goa', 77])\n"
     ]
    }
   ],
   "source": [
    "r = {1:\"A\", 2:\"Zara\", 3:\"goa\", \"raw\":77}\n",
    "\n",
    "print(r.values())"
   ]
  },
  {
   "cell_type": "code",
   "execution_count": 38,
   "id": "a6401e6a",
   "metadata": {},
   "outputs": [
    {
     "name": "stdout",
     "output_type": "stream",
     "text": [
      "['A', 'Zara', 'goa', 77]\n"
     ]
    }
   ],
   "source": [
    "print(list(r.values()))"
   ]
  },
  {
   "cell_type": "code",
   "execution_count": 39,
   "id": "0ab0f9bd",
   "metadata": {},
   "outputs": [
    {
     "name": "stdout",
     "output_type": "stream",
     "text": [
      "3\n"
     ]
    }
   ],
   "source": [
    "r = {3:\"A\", 2:\"Zara\", 3:\"goa\", \"raw\":77}\n",
    "\n",
    "print(len(r))"
   ]
  },
  {
   "cell_type": "code",
   "execution_count": 40,
   "id": "ae16a1d5",
   "metadata": {},
   "outputs": [
    {
     "name": "stdout",
     "output_type": "stream",
     "text": [
      "{3: 'goa', 2: 'Zara', 'raw': 77}\n"
     ]
    }
   ],
   "source": [
    "print(r)"
   ]
  },
  {
   "cell_type": "markdown",
   "id": "8aced333",
   "metadata": {},
   "source": [
    "#### items"
   ]
  },
  {
   "cell_type": "code",
   "execution_count": 1,
   "id": "6a964fe2",
   "metadata": {},
   "outputs": [
    {
     "name": "stdout",
     "output_type": "stream",
     "text": [
      "dict_items([(3, 'goa'), (2, 'Zara'), ('raw', 77)])\n"
     ]
    }
   ],
   "source": [
    "r = {3: 'goa', 2: 'Zara', 'raw': 77}\n",
    "\n",
    "print(r.items())"
   ]
  },
  {
   "cell_type": "code",
   "execution_count": 2,
   "id": "9c3f036b",
   "metadata": {},
   "outputs": [
    {
     "name": "stdout",
     "output_type": "stream",
     "text": [
      "[(3, 'goa'), (2, 'Zara'), ('raw', 77)]\n"
     ]
    }
   ],
   "source": [
    "print(list(r.items()))"
   ]
  },
  {
   "cell_type": "code",
   "execution_count": null,
   "id": "4db49276",
   "metadata": {},
   "outputs": [],
   "source": [
    "[(3, 'goa'), (2, 'Zara'), ('raw', 77)]\n",
    "#    0           1             2\n",
    "# 0    1      0     1        0     1"
   ]
  },
  {
   "cell_type": "code",
   "execution_count": null,
   "id": "8c7e531c",
   "metadata": {},
   "outputs": [],
   "source": [
    "x --> 10\n",
    "y --> 20\n",
    "z --> 30"
   ]
  },
  {
   "cell_type": "code",
   "execution_count": 4,
   "id": "7101bf43",
   "metadata": {},
   "outputs": [
    {
     "name": "stdout",
     "output_type": "stream",
     "text": [
      "x --> 10\n",
      "y --> 20\n",
      "z --> 30\n"
     ]
    }
   ],
   "source": [
    "d = {'x':10, 'y':20, 'z': 30}\n",
    "\n",
    "#           ('x', 10)\n",
    "for a,b in d.items():\n",
    "    print(a,'-->',b)"
   ]
  },
  {
   "cell_type": "code",
   "execution_count": 5,
   "id": "75e41874",
   "metadata": {},
   "outputs": [
    {
     "name": "stdout",
     "output_type": "stream",
     "text": [
      "10\n",
      "20\n",
      "30\n"
     ]
    }
   ],
   "source": [
    "for a in d.values():\n",
    "    print(a)"
   ]
  },
  {
   "cell_type": "markdown",
   "id": "85349292",
   "metadata": {},
   "source": [
    "**WAP to merge two dictionaries**"
   ]
  },
  {
   "cell_type": "code",
   "execution_count": 8,
   "id": "0a2a38d8",
   "metadata": {},
   "outputs": [
    {
     "name": "stdout",
     "output_type": "stream",
     "text": [
      "{1: 'Hi', 2: 'Bye', 3: 'indore', 4: 'goa'}\n"
     ]
    }
   ],
   "source": [
    "d1 = {1:\"Hi\", 2:\"Bye\"}\n",
    "d2 = {3:\"indore\", 4:\"goa\"}\n",
    "\n",
    "d1.update(d2)\n",
    "print(d1)"
   ]
  },
  {
   "cell_type": "code",
   "execution_count": 9,
   "id": "6727e7c7",
   "metadata": {},
   "outputs": [
    {
     "data": {
      "text/plain": [
       "{1: 'Hi', 2: 'Bye'}"
      ]
     },
     "execution_count": 9,
     "metadata": {},
     "output_type": "execute_result"
    }
   ],
   "source": [
    "d1 = {1:\"Hi\", 2:\"Bye\"}\n",
    "\n",
    "d2 = d1.copy()\n",
    "\n",
    "d2"
   ]
  },
  {
   "cell_type": "markdown",
   "id": "ac452e6f",
   "metadata": {},
   "source": [
    "**WAP to sum all the values in a dictionary**"
   ]
  },
  {
   "cell_type": "code",
   "execution_count": 10,
   "id": "1652c80b",
   "metadata": {},
   "outputs": [
    {
     "name": "stdout",
     "output_type": "stream",
     "text": [
      "85\n"
     ]
    }
   ],
   "source": [
    "d = {1:11, 2:21, 3:22, 4:31}\n",
    "\n",
    "print(sum(d.values()))"
   ]
  },
  {
   "cell_type": "code",
   "execution_count": 12,
   "id": "b5002106",
   "metadata": {},
   "outputs": [
    {
     "name": "stdout",
     "output_type": "stream",
     "text": [
      "Sum= 85\n"
     ]
    }
   ],
   "source": [
    "s = 0\n",
    "for i in d:\n",
    "    s = s + d[i]\n",
    "print(\"Sum =\",s)"
   ]
  },
  {
   "cell_type": "markdown",
   "id": "023a62c8",
   "metadata": {},
   "source": [
    "**WAP to check a dictionary is empty or not**"
   ]
  },
  {
   "cell_type": "code",
   "execution_count": 13,
   "id": "1054b138",
   "metadata": {},
   "outputs": [
    {
     "name": "stdout",
     "output_type": "stream",
     "text": [
      "Empty\n"
     ]
    }
   ],
   "source": [
    "d = {}\n",
    "if len(d) == 0:\n",
    "    print(\"Empty\")"
   ]
  },
  {
   "cell_type": "code",
   "execution_count": null,
   "id": "3f2bfc82",
   "metadata": {},
   "outputs": [],
   "source": [
    "{1:1, 2:4, 3:9, 4:16, 5:25, 6:36......10:100}"
   ]
  },
  {
   "cell_type": "code",
   "execution_count": 18,
   "id": "bc18f77c",
   "metadata": {},
   "outputs": [
    {
     "name": "stdout",
     "output_type": "stream",
     "text": [
      "{1: 1, 2: 4, 3: 9, 4: 16, 5: 25, 6: 36, 7: 49, 8: 64, 9: 81, 10: 100}\n"
     ]
    }
   ],
   "source": [
    "d = {}\n",
    "\n",
    "for i in range(1,11):\n",
    "    d[i] = i * i\n",
    "\n",
    "print(d)"
   ]
  },
  {
   "cell_type": "code",
   "execution_count": null,
   "id": "de3bf372",
   "metadata": {},
   "outputs": [],
   "source": []
  }
 ],
 "metadata": {
  "kernelspec": {
   "display_name": "Python 3",
   "language": "python",
   "name": "python3"
  },
  "language_info": {
   "codemirror_mode": {
    "name": "ipython",
    "version": 3
   },
   "file_extension": ".py",
   "mimetype": "text/x-python",
   "name": "python",
   "nbconvert_exporter": "python",
   "pygments_lexer": "ipython3",
   "version": "3.8.10"
  }
 },
 "nbformat": 4,
 "nbformat_minor": 5
}
